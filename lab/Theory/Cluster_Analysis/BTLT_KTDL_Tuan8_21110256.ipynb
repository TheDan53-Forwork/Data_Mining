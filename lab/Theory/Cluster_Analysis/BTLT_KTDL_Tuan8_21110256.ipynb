{
 "cells": [
  {
   "cell_type": "markdown",
   "metadata": {},
   "source": [
    "# <center> Bài tập Lý thuyết môn Khai phá Dữ liệu </center>"
   ]
  },
  {
   "cell_type": "markdown",
   "metadata": {},
   "source": [
    "### **Họ và tên:** Huỳnh Nguyễn Thế Dân\n",
    "### **MSSV:** 21110256\n",
    "### **Lớp:** 21TTH1\n"
   ]
  },
  {
   "cell_type": "markdown",
   "metadata": {},
   "source": [
    "## <center> Questions </center>"
   ]
  },
  {
   "cell_type": "markdown",
   "metadata": {},
   "source": [
    "### 1. Consider the 1-dimensional data set with 10 data points {1, 2, 3, . . . 10}. Show three iterations of the k-means algorithms when k = 2, and the random seeds are initialized to {1, 2}."
   ]
  },
  {
   "cell_type": "markdown",
   "metadata": {},
   "source": [
    "### 5. Consider the 1-dimensional data set {1 . . . 10}. Apply a hierarchical agglomerative approach, with the use of minimum, maximum, and group average criteria for merging. Show the first six merges."
   ]
  },
  {
   "cell_type": "markdown",
   "metadata": {},
   "source": [
    "----------------------------------------------------------------"
   ]
  },
  {
   "cell_type": "markdown",
   "metadata": {},
   "source": [
    "## <center> Answer </center>"
   ]
  },
  {
   "cell_type": "markdown",
   "metadata": {},
   "source": [
    "### *For exercise 1:\n",
    "\n",
    "#### First Iteration\n",
    "\n",
    "- **Initial Centroids:**\n",
    "  - Cluster 1: Centroid $ m_1 = 1 $\n",
    "  - Cluster 2: Centroid $ m_2 = 2 $\n",
    "\n",
    "- **Cluster Assignment:**\n",
    "  - Data {1}: closest to cluster 1 (distance 0)\n",
    "  - Data {2}: closest to cluster 2 (distance 0)\n",
    "  - Data {3}: closest to cluster 2 (distance 1)\n",
    "  - Data {4, 5, 6, 7, 8, 9, 10}: closest to cluster 2\n",
    "\n",
    "- **Updated Centroids:**\n",
    "  - Cluster 1: $ m_1 = \\frac{1}{1} = 1 $\n",
    "  - Cluster 2: $ m_2 = \\frac{2 + 3 + 4 + 5 + 6 + 7 + 8 + 9 + 10}{9} = 6 $\n",
    "\n",
    "#### Second Iteration\n",
    "\n",
    "- **Initial Centroids:**\n",
    "  - Cluster 1: $ m_1 = 1 $\n",
    "  - Cluster 2: $ m_2 = 6 $\n",
    "\n",
    "- **Cluster Assignment:**\n",
    "  - Data {1, 2, 3}: closest to cluster 1\n",
    "  - Data {4, 5, 6, 7, 8, 9, 10}: closest to cluster 2\n",
    "\n",
    "- **Updated Centroids:**\n",
    "  - Cluster 1: $ m_1 = \\frac{1 + 2 + 3}{3} = 2 $\n",
    "  - Cluster 2: $ m_2 = \\frac{4 + 5 + 6 + 7 + 8 + 9 + 10}{7} = 7 $\n",
    "\n",
    "#### Third Iteration\n",
    "\n",
    "- **Initial Centroids:**\n",
    "  - Cluster 1: $ m_1 = 2 $\n",
    "  - Cluster 2: $ m_2 = 7 $\n",
    "\n",
    "- **Cluster Assignment:**\n",
    "  - Data {1, 2, 3, 4}: closest to cluster 1\n",
    "  - Data {5, 6, 7, 8, 9, 10}: closest to cluster 2\n",
    "\n",
    "- **Updated Centroids:**\n",
    "  - Cluster 1: $ m_1 = \\frac{1 + 2 + 3 + 4}{4} = 2.5 $\n",
    "  - Cluster 2: $ m_2 = \\frac{5 + 6 + 7 + 8 + 9 + 10}{6} = 7.5 $\n"
   ]
  },
  {
   "cell_type": "markdown",
   "metadata": {},
   "source": [
    "----------------------------------------------------------------"
   ]
  },
  {
   "cell_type": "markdown",
   "metadata": {},
   "source": [
    "### *For exercise 5:\n",
    "\n",
    "Let's apply a hierarchical agglomerative clustering approach to the 1-dimensional data set {1, 2, 3, 4, 5, 6, 7, 8, 9, 10}. We'll consider three different criteria for merging clusters: minimum (single linkage), maximum (complete linkage), and group average.\n",
    "\n",
    "#### Minimum (Single Linkage)\n",
    "**Start with each point as its own cluster.**\n",
    "\n",
    "- Merge 1: The closest clusters are {1} and {2}, distance 1.\n",
    "\n",
    "    - Merged cluster: {1, 2}\n",
    "- Merge 2: The closest clusters are {3} and {1, 2}, distance 1.\n",
    "\n",
    "    - Merged cluster: {1, 2, 3}\n",
    "- Merge 3: The closest clusters are {4} and {1, 2, 3}, distance 1.\n",
    "\n",
    "    - Merged cluster: {1, 2, 3, 4}\n",
    "- Merge 4: The closest clusters are {5} and {1, 2, 3, 4}, distance 1.\n",
    "\n",
    "    - Merged cluster: {1, 2, 3, 4, 5}\n",
    "- Merge 5: The closest clusters are {6} and {1, 2, 3, 4, 5}, distance 1.\n",
    "\n",
    "    - Merged cluster: {1, 2, 3, 4, 5, 6}\n",
    "- Merge 6: The closest clusters are {7} and {1, 2, 3, 4, 5, 6}, distance 1.\n",
    "\n",
    "    - Merged cluster: {1, 2, 3, 4, 5, 6, 7}\n",
    "\n",
    "#### Maximum (Complete Linkage)\n",
    "**Start with each point as its own cluster.**\n",
    "\n",
    "- Merge 1: The closest clusters are {1} and {2}, distance 1.\n",
    "\n",
    "    - Merged cluster: {1, 2}\n",
    "- Merge 2: The closest clusters are {3} and {4}, distance 1.\n",
    "\n",
    "    - Merged cluster: {3, 4}\n",
    "- Merge 3: The closest clusters are {5} and {6}, distance 1.\n",
    "\n",
    "    - Merged cluster: {5, 6}\n",
    "- Merge 4: The closest clusters are {7} and {8}, distance 1.\n",
    "\n",
    "    - Merged cluster: {7, 8}\n",
    "- Merge 5: The closest clusters are {9} and {10}, distance 1.\n",
    "\n",
    "    - Merged cluster: {9, 10}\n",
    "- Merge 6: The closest clusters are {1, 2} and {3, 4}, distance 2.\n",
    "\n",
    "    - Merged cluster: {1, 2, 3, 4}\n",
    "\n",
    "#### Group Average\n",
    "**Start with each point as its own cluster.**\n",
    "\n",
    "- Merge 1: The closest clusters are {1} and {2}, distance 1.\n",
    "\n",
    "    - Merged cluster: {1, 2}\n",
    "- Merge 2: The closest clusters are {3} and {1, 2}, distance 1.5.\n",
    "\n",
    "    - Merged cluster: {1, 2, 3}\n",
    "- Merge 3: The closest clusters are {4} and {1, 2, 3}, distance 2.\n",
    "\n",
    "    - Merged cluster: {1, 2, 3, 4}\n",
    "- Merge 4: The closest clusters are {5} and {1, 2, 3, 4}, distance 2.5.\n",
    "\n",
    "    - Merged cluster: {1, 2, 3, 4, 5}\n",
    "- Merge 5: The closest clusters are {6} and {1, 2, 3, 4, 5}, distance 3.\n",
    "\n",
    "    - Merged cluster: {1, 2, 3, 4, 5, 6}\n",
    "- Merge 6: The closest clusters are {7} and {1, 2, 3, 4, 5, 6}, distance 3.5.\n",
    "\n",
    "    - Merged cluster: {1, 2, 3, 4, 5, 6, 7}"
   ]
  },
  {
   "cell_type": "markdown",
   "metadata": {},
   "source": [
    "----------------------------------------------------------------"
   ]
  },
  {
   "cell_type": "markdown",
   "metadata": {},
   "source": [
    "**<center> End. </center>**"
   ]
  }
 ],
 "metadata": {
  "kernelspec": {
   "display_name": "Python 3",
   "language": "python",
   "name": "python3"
  },
  "language_info": {
   "codemirror_mode": {
    "name": "ipython",
    "version": 3
   },
   "file_extension": ".py",
   "mimetype": "text/x-python",
   "name": "python",
   "nbconvert_exporter": "python",
   "pygments_lexer": "ipython3",
   "version": "3.11.0"
  }
 },
 "nbformat": 4,
 "nbformat_minor": 2
}
