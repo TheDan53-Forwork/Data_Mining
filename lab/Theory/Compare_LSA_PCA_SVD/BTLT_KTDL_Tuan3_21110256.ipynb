{
 "cells": [
  {
   "cell_type": "markdown",
   "metadata": {},
   "source": [
    "# <center> Bài tập Lý thuyết môn Khai phá Dữ liệu </center>"
   ]
  },
  {
   "cell_type": "markdown",
   "metadata": {},
   "source": [
    "### **Họ và tên:** Huỳnh Nguyễn Thế Dân\n",
    "### **MSSV:** 21110256\n",
    "### **Lớp:** 21TTH1\n"
   ]
  },
  {
   "cell_type": "markdown",
   "metadata": {},
   "source": [
    "## <center> Questions </center>"
   ]
  },
  {
   "cell_type": "markdown",
   "metadata": {},
   "source": [
    "# Các em phân biệt sự khác nhau và điểm mạnh/điểm yếu của 03 phương pháp: LSA, PCA, và SVD trong việc giảm số chiều dữ liệu.\n"
   ]
  },
  {
   "cell_type": "markdown",
   "metadata": {},
   "source": [
    "### Các phương pháp Latent Semantic Analysis (LSA), Principal Component Analysis (PCA), và Singular Value Decomposition (SVD) đều được sử dụng để giảm số chiều dữ liệu trong các bài toán xử lý ngôn ngữ tự nhiên và khai phá dữ liệu. Dưới đây là sự khác nhau và điểm mạnh/điểm yếu của mỗi phương pháp:\n",
    "\n",
    "### Latent Semantic Analysis (LSA):\n",
    "- **Sự khác nhau**:\n",
    "    - **LSA** là một phương pháp phân tích ma trận được sử dụng để xác định các mối quan hệ ngữ nghĩa giữa các từ và văn bản trong một tập dữ liệu lớn. Phương pháp này dựa trên giả định rằng các từ có liên quan đến nhau thường xuất hiện cùng nhau trong các văn bản và ngược lại, các văn bản có chứa các từ tương tự cũng có nội dung tương tự.\n",
    "- **Điểm mạnh**:\n",
    "    - **Tìm kiếm semantic**: LSA cho phép tìm ra các từ có ý nghĩa tương tự trong không gian vector, ngay cả khi chúng không xuất hiện cùng nhau trong cùng một văn bản.\n",
    "    - **Giảm số chiều dữ liệu**: LSA giúp giảm số chiều của ma trận term-document một cách hiệu quả, giúp giảm bớt vấn đề về chiều dữ liệu và cải thiện hiệu suất tính toán.\n",
    "    - **Xử lý dữ liệu thưa**: LSA xử lý được dữ liệu thưa (sparse data) bằng cách chuyển đổi nó thành một không gian vector thưa.\n",
    "- **Điểm yếu**:\n",
    "    - **Không biểu diễn được mối quan hệ cụ thể giữa các từ**: Mặc dù LSA có thể xác định các từ có ý nghĩa tương tự, nhưng nó không cung cấp thông tin cụ thể về mối quan hệ semantic giữa các từ.\n",
    "    - **Phụ thuộc vào biểu diễn ma trận term-document**: LSA phụ thuộc vào biểu diễn ma trận term-document, điều này có nghĩa là nó có thể không hiệu quả khi xử lý các loại dữ liệu khác ngoài văn bản.\n",
    "    - **Khả năng xử lý dữ liệu lớn**: Trong một số trường hợp, tính toán LSA có thể trở nên phức tạp đối với các tập dữ liệu lớn.\n",
    "\n",
    "### Principal Component Analysis (PCA):\n",
    "- **Sự khác nhau**:\n",
    "    - **PCA** là một phương pháp thống kê được sử dụng để giảm số chiều của dữ liệu bằng cách tìm ra các thành phần chính (principal components) của dữ liệu. Các thành phần chính là các vector eigenvector ứng với các eigenvalue lớn nhất của ma trận hiệp phương sai (covariance matrix) của dữ liệu.\n",
    "- **Điểm mạnh**:\n",
    "    - **Giảm số chiều dữ liệu**: PCA giúp giảm số chiều của dữ liệu một cách hiệu quả bằng cách chọn ra các thành phần chính giữ lại phần lớn thông tin quan trọng của dữ liệu.\n",
    "    - **Giữ lại cấu trúc quan trọng của dữ liệu**: Các thành phần chính được chọn sao cho chúng biểu diễn được phần lớn sự biến thiên trong dữ liệu, giữ lại cấu trúc quan trọng của dữ liệu gốc.\n",
    "    - **Khả năng khám phá các mối quan hệ tuyến tính**: PCA là một công cụ mạnh mẽ để khám phá các mối quan hệ tuyến tính giữa các biến trong dữ liệu.\n",
    "- **Điểm yếu**:\n",
    "    - **Không phân biệt được các mối quan hệ phi tuyến tính**: PCA chỉ tập trung vào các mối quan hệ tuyến tính giữa các biến, do đó nó không phân biệt được các mối quan hệ phi tuyến tính trong dữ liệu.\n",
    "    - **Khả năng ảnh hưởng bởi các outliers**: Các outliers có thể ảnh hưởng đến kết quả của PCA bằng cách thay đổi ma trận hiệp phương sai và do đó ảnh hưởng đến các thành phần chính được chọn.\n",
    "    - **Chỉ phù hợp cho dữ liệu có phân phối Gaussian**: PCA giả định rằng dữ liệu có phân phối Gaussian, do đó nó không phù hợp cho các loại dữ liệu không tuân theo phân phối này.\n",
    "\n",
    "### Singular Value Decomposition (SVD):"
   ]
  }
 ],
 "metadata": {
  "kernelspec": {
   "display_name": "Python 3",
   "language": "python",
   "name": "python3"
  },
  "language_info": {
   "codemirror_mode": {
    "name": "ipython",
    "version": 3
   },
   "file_extension": ".py",
   "mimetype": "text/x-python",
   "name": "python",
   "nbconvert_exporter": "python",
   "pygments_lexer": "ipython3",
   "version": "3.11.0"
  }
 },
 "nbformat": 4,
 "nbformat_minor": 2
}
