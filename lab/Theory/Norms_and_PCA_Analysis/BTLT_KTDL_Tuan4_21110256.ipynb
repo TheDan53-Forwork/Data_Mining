{
 "cells": [
  {
   "cell_type": "markdown",
   "metadata": {},
   "source": [
    "# <center> Bài tập Lý thuyết môn Khai phá Dữ liệu </center>"
   ]
  },
  {
   "cell_type": "markdown",
   "metadata": {},
   "source": [
    "### **Họ và tên:** Huỳnh Nguyễn Thế Dân\n",
    "### **MSSV:** 21110256\n",
    "### **Lớp:** 21TTH1\n"
   ]
  },
  {
   "cell_type": "markdown",
   "metadata": {},
   "source": [
    "## <center> Questions </center>"
   ]
  },
  {
   "cell_type": "markdown",
   "metadata": {},
   "source": [
    "## 1. Compute the Lp-norm between (1, 2) and (3, 4) for p = 1, 2, ∞."
   ]
  },
  {
   "cell_type": "markdown",
   "metadata": {},
   "source": [
    "1. Compute the Lp-norm between (1, 2) and (3, 4) for p = 1, 2, ∞:\n",
    "\n",
    "For two points (x1, y1) and (x2, y2), the Lp-norm is defined as:\n",
    "$$\n",
    "\\left( \\left| x_1 - x_2 \\right|^p + \\left| y_1 - y_2 \\right|^p \\right)^{\\frac{1}{p}}\n",
    "$$\n",
    "\n",
    "For p = 1:\n",
    "$$\n",
    "\\left( \\left| 1 - 3 \\right| + \\left| 2 - 4 \\right| \\right)^{\\frac{1}{1}} = \\left( 2 + 2 \\right)^{\\frac{1}{1}} = 4\n",
    "$$\n",
    "\n",
    "For p = 2 (Euclidean distance):\n",
    "$$\n",
    "\\left( \\left| 1 - 3 \\right|^2 + \\left| 2 - 4 \\right|^2 \\right)^{\\frac{1}{2}} = \\left( 4 + 4 \\right)^{\\frac{1}{2}} = \\sqrt{8}\n",
    "$$\n",
    "\n",
    "For p = ∞:\n",
    "$$\n",
    "\\max \\left( \\left| 1 - 3 \\right|, \\left| 2 - 4 \\right| \\right) = \\max \\left( 2, 2 \\right) = 2\n",
    "$$\n",
    "\n",
    "So,\n",
    "\n",
    "The L1-norm is 4\n",
    "\n",
    "The L2-norm is $\\sqrt{8}$\n",
    "\n",
    "The L∞-norm is 2"
   ]
  },
  {
   "cell_type": "markdown",
   "metadata": {},
   "source": [
    "## 2. Show that the Mahalanobis distance between two data points is equivalent to the Euclidean distance on a transformed data set, where the transformation is performed by representing the data along the principal components, and dividing by the standard deviation of each component."
   ]
  },
  {
   "cell_type": "markdown",
   "metadata": {},
   "source": [
    "<!-- 2. Show that the Mahalanobis distance between two data points is equivalent to the Euclidean distance on a transformed data set, where the transformation is performed by representing the data along the principal components, and dividing by the standard deviation of each component:\n",
    "\n",
    "Let's denote the Mahalanobis distance between two points \\( x \\) and \\( y \\) as \\( D_M(x, y) \\). It is defined as:\n",
    "\\[ D_M(x, y) = \\sqrt{(x - y)^T \\Sigma^{-1} (x - y)} \\]\n",
    "\n",
    "Where \\( \\Sigma \\) is the covariance matrix of the data.\n",
    "\n",
    "Now, let's perform Principal Component Analysis (PCA) on the data to get the principal components \\( v_1, v_2, ..., v_n \\) and the corresponding standard deviations \\( \\sigma_1, \\sigma_2, ..., \\sigma_n \\). Then, the transformed data points \\( x' \\) and \\( y' \\) can be obtained by projecting the original data points onto these principal components and dividing by the standard deviation of each component.\n",
    "\n",
    "Now, the Mahalanobis distance becomes:\n",
    "\\[ D_M(x', y') = \\sqrt{(x' - y')^T \\Sigma'^{-1} (x' - y')} \\]\n",
    "\n",
    "Where \\( \\Sigma' \\) is the covariance matrix of the transformed data.\n",
    "\n",
    "Since the principal components are orthogonal, \\( \\Sigma' \\) is diagonal with entries \\( \\frac{1}{\\sigma_1^2}, \\frac{1}{\\sigma_2^2}, ..., \\frac{1}{\\sigma_n^2} \\).\n",
    "\n",
    "Thus, \\( \\Sigma'^{-1} \\) is also diagonal with entries \\( \\sigma_1^2, \\sigma_2^2, ..., \\sigma_n^2 \\).\n",
    "\n",
    "Now, \\( (x' - y') \\) is simply the difference between the transformed points \\( x' \\) and \\( y' \\).\n",
    "\n",
    "So, \\( (x' - y')^T \\Sigma'^{-1} (x' - y') \\) is the sum of squares of the components of \\( (x' - y') \\) weighted by \\( \\sigma_i^2 \\), which is precisely the Euclidean distance between \\( x' \\) and \\( y' \\).\n",
    "\n",
    "Thus, \\( D_M(x', y') = \\| x' - y' \\| \\), which is the Euclidean distance between the transformed points.\n",
    "\n",
    "3. Compute the match-based similarity, cosine similarity, and the Jaccard coefficient between the two sets {A, B, C} and {A, C, D, E}:\n",
    "\n",
    "Match-based similarity: The match-based similarity is the ratio of the number of common elements to the total number of distinct elements in both sets.\n",
    "\\[ \\text{Common elements} = \\{A, C\\} \\]\n",
    "\\[ \\text{Total distinct elements} = \\{A, B, C, D, E\\} \\]\n",
    "\\[ \\text{Match-based similarity} = \\frac{|\\text{Common elements}|}{|\\text{Total distinct elements}|} = \\frac{2}{5} \\]\n",
    "\n",
    "Cosine similarity: Cosine similarity measures the cosine of the angle between two vectors representing the sets in a high-dimensional space.\n",
    "\\[ \\text{Set 1 vector} = (1, 1, 1, 0, 0) \\]\n",
    "\\[ \\text{Set 2 vector} = (1, 0, 1, 1, 1) \\]\n",
    "\\[ \\text{Cosine similarity} = \\frac{\\text{Set 1 vector} \\cdot \\text{Set 2 vector}}{\\|\\text{Set 1 vector}\\| \\cdot \\|\\text{Set 2 vector}\\|} = \\frac{2}{\\sqrt{3} \\cdot \\sqrt{4}} = \\frac{2}{2\\sqrt{3}} = \\frac{1}{\\sqrt{3}} \\]\n",
    "\n",
    "Jaccard coefficient: Jaccard coefficient is the ratio of the size of the intersection of the sets to the size of their union.\n",
    "\\[ \\text{Intersection} = \\{A, C\\} \\]\n",
    "\\[ \\text{Union} = \\{A, B, C, D, E\\} \\]\n",
    "\\[ \\text{Jaccard coefficient} = \\frac{|\\text{Intersection}|}{|\\text{Union}|} = \\frac{2}{5} \\] -->\n"
   ]
  },
  {
   "cell_type": "markdown",
   "metadata": {},
   "source": [
    "## 4. Compute the match-based similarity, cosine similarity, and the Jaccard coefficient, between the two sets {A, B, C} and {A, C, D, E}."
   ]
  },
  {
   "cell_type": "markdown",
   "metadata": {},
   "source": []
  },
  {
   "cell_type": "markdown",
   "metadata": {},
   "source": [
    "## 5. Let X and Y be two data points. Show that the cosine angle between the vectors X and Y is given by: \n",
    "\n",
    "<center>\n",
    "\n",
    "$$\n",
    "\\cos(\\mathbf{X}, \\mathbf{Y}) = \\frac{{\\|\\mathbf{X}\\|^2 + \\|\\mathbf{Y}\\|^2 - \\|\\mathbf{X} - \\mathbf{Y}\\|^2}}{{2\\|\\mathbf{X}\\|\\|\\mathbf{Y}\\|}}\n",
    "$$\n",
    "\n",
    "</center>"
   ]
  },
  {
   "cell_type": "markdown",
   "metadata": {},
   "source": []
  },
  {
   "cell_type": "markdown",
   "metadata": {},
   "source": [
    "<center> Hết. </center>"
   ]
  }
 ],
 "metadata": {
  "kernelspec": {
   "display_name": "Python 3",
   "language": "python",
   "name": "python3"
  },
  "language_info": {
   "codemirror_mode": {
    "name": "ipython",
    "version": 3
   },
   "file_extension": ".py",
   "mimetype": "text/x-python",
   "name": "python",
   "nbconvert_exporter": "python",
   "pygments_lexer": "ipython3",
   "version": "3.11.0"
  }
 },
 "nbformat": 4,
 "nbformat_minor": 2
}
