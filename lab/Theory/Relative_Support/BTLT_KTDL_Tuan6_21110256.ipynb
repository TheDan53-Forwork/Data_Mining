{
 "cells": [
  {
   "cell_type": "markdown",
   "metadata": {},
   "source": [
    "# <center> Bài tập Lý thuyết môn Khai phá Dữ liệu </center>"
   ]
  },
  {
   "cell_type": "markdown",
   "metadata": {},
   "source": [
    "### **Họ và tên:** Huỳnh Nguyễn Thế Dân\n",
    "### **MSSV:** 21110256\n",
    "### **Lớp:** 21TTH1\n"
   ]
  },
  {
   "cell_type": "markdown",
   "metadata": {},
   "source": [
    "## <center> Questions </center>"
   ]
  },
  {
   "cell_type": "markdown",
   "metadata": {},
   "source": [
    "### 1. Consider the transaction database in the table below:\n",
    "```css\n",
    "| tid |   Items   |\n",
    "|-----|-----------|\n",
    "| 1   | a, b, c, d|\n",
    "| 2   | b, c, e, f|\n",
    "| 3   | a, d, e, f|\n",
    "| 4   |    a, e, f|\n",
    "| 5   |    b, d, f|\n",
    "```\n",
    "Determine the absolute support of itemsets {a, e, f}, and {d, f}. Convert the absolute support to the relative support.\n"
   ]
  },
  {
   "cell_type": "markdown",
   "metadata": {},
   "source": [
    "### 2. For the database in Exercise 1, compute all frequent patterns at absolute minimum support values of 2, 3, and 4."
   ]
  },
  {
   "cell_type": "markdown",
   "metadata": {},
   "source": [
    "### 3. For the database in Exercise 1, determine all the maximal frequent patterns at absolute minimum support values of 2, 3, and 4."
   ]
  },
  {
   "cell_type": "markdown",
   "metadata": {},
   "source": [
    "### 4. Represent the database of Exercise 1 in vertical format."
   ]
  },
  {
   "cell_type": "markdown",
   "metadata": {},
   "source": [
    "### 5. Consider the transaction database in the table below:\n",
    "```css\n",
    "| tid |     Items    |\n",
    "|-----|--------------|\n",
    "| 1   | a, c, d, e   |\n",
    "| 2   | a, d, e, f   |\n",
    "| 3   | b, c, d, e, f|\n",
    "| 4   | b, d, e, f   |\n",
    "| 5   | b, e, f      |\n",
    "| 6   | c, d, e      |\n",
    "| 7   | c, e, f      |\n",
    "| 8   | d, e, f      |\n",
    "``` \n",
    "Determine all frequent patterns and maximal patterns at support levels of 3, 4, and 5."
   ]
  },
  {
   "cell_type": "markdown",
   "metadata": {},
   "source": [
    "----------------------------------------------------------------"
   ]
  },
  {
   "cell_type": "markdown",
   "metadata": {},
   "source": [
    "## <center> Answer </center>"
   ]
  },
  {
   "cell_type": "markdown",
   "metadata": {},
   "source": [
    "### *For exercise 1:\n",
    "\n",
    "#### **Absolute Support**\n",
    "**Absolute support** of an itemset is defined as the number of transactions in which the itemset appears.\n",
    "\n",
    "1. For the itemset {a, e, f}:\n",
    "- Transaction 3: contains {a, d, e, f}\n",
    "- Transaction 4: contains {a, e, f}\n",
    "Hence, the absolute support for {a, e, f} is 2 (appears in transactions 3 and 4).\n",
    "\n",
    "2. For the itemset {d, f}:\n",
    "- Transaction 3: contains {a, d, e, f}\n",
    "- Transaction 5: contains {b, d, f}\n",
    "Hence, the absolute support for {d, f} is 2 (appears in transactions 3 and 5).\n",
    "\n",
    "#### **Relative Support**\n",
    "**Relative support** is calculated by dividing the absolute support by the total number of transactions in the database.\n",
    "\n",
    "Total number of transactions = 5.\n",
    "\n",
    "1. For the itemset {a, e, f}:\n",
    "- Relative support = Absolute support of {a, e, f} / Total number of transactions\n",
    "- Relative support = 2 / 5 = 0.4\n",
    "\n",
    "2. For the itemset {d, f}:\n",
    "- Relative support = Absolute support of {d, f} / Total number of transactions\n",
    "- Relative support = 2 / 5 = 0.4\n",
    "\n",
    "Thus, the relative support for both {a, e, f} and {d, f} is 0.4."
   ]
  },
  {
   "cell_type": "markdown",
   "metadata": {},
   "source": [
    "----------------------------------------------------------------"
   ]
  },
  {
   "cell_type": "markdown",
   "metadata": {},
   "source": [
    "### *For exercise 2: Which requires computing all frequent patterns at absolute minimum support values of 2, 3, and 4. \n",
    "\n",
    "#### **Support Threshold of 2:**\n",
    "Absolute Support Count for Key Itemsets:\n",
    "\n",
    "- {a, e, f}: Appears in T3, T4 → Support = 2\n",
    "- {d, f}: Appears in T3, T5 → Support = 2\n",
    "- {b, c}: Appears in T1, T2 → Support = 2\n",
    "- {e, f}: Appears in T2, T3, T4 → Support = 3 (also frequent at higher thresholds)\n",
    "- {b, d}: Appears in T1, T5 → Support = 2\n",
    "- {a, f}: Appears in T3, T4 → Support = 2\n",
    "\n",
    "Frequent Itemsets at Support ≥ 2:\n",
    "\n",
    "- Singletons: All items {a}, {b}, {c}, {d}, {e}, {f} have support ≥ 2 since all appear in at least two transactions.\n",
    "- Pairs and Triples:\n",
    "- {a, e, f}\n",
    "- {d, f}\n",
    "- {b, c}\n",
    "- {b, d}\n",
    "- {a, f}\n",
    "- {e, f} (also frequent at higher thresholds)\n",
    "\n",
    "#### **Support Threshold of 3:**\n",
    "Since the item {f} appears in 4 transactions, it's the most frequent single item.\n",
    "\n",
    "- {e, f}: Appears in T2, T3, T4 → Support = 3\n",
    "- {a}: Appears in T1, T3, T4 → Support = 3\n",
    "- {b}: Appears in T1, T2, T5 → Support = 3\n",
    "- {d}: Appears in T1, T3, T5 → Support = 3\n",
    "\n",
    "Frequent Itemsets at Support ≥ 3:\n",
    "\n",
    "- {e, f}\n",
    "- {a}, {b}, {d}, {f}\n",
    "\n",
    "#### **Support Threshold of 4:**\n",
    "- {f}: Appears in T2, T3, T4, T5 → Support = 4\n",
    "\n",
    "Frequent Itemsets at Support ≥ 4:\n",
    "\n",
    "- {f}\n",
    "#### **Corrected Frequent Itemsets Summary:**\n",
    "- Support ≥ 2: {a, e, f}, {d, f}, {b, c}, {b, d}, {a, f}, {e, f}, {a}, {b}, {c}, {d}, {e}, {f}\n",
    "- Support ≥ 3: {e, f}, {a}, {b}, {d}, {f}\n",
    "- Support ≥ 4: {f}\n",
    "\n",
    "This revised and corrected list accurately represents the frequent itemsets across the different minimum support thresholds."
   ]
  },
  {
   "cell_type": "markdown",
   "metadata": {},
   "source": [
    "----------------------------------------------------------------"
   ]
  },
  {
   "cell_type": "markdown",
   "metadata": {},
   "source": [
    "### *For exercise 3:\n",
    "We'll use the frequent patterns already identified in a previous response and further identify which of these are maximal by checking if they can be extended without their support dropping below the respective thresholds.\n",
    "\n",
    "#### **Recap of Frequent Itemsets:**\n",
    "\n",
    "From the previous analysis:\n",
    "\n",
    "- Support ≥ 2: {a, e, f}, {d, f}, {b, c}, {b, d}, {a, f}, {e, f}, {a}, {b}, {c}, {d}, {e}, {f}\n",
    "- Support ≥ 3: {e, f}, {a}, {b}, {d}, {f}\n",
    "- Support ≥ 4: {f}\n",
    "\n",
    "#### **Identifying Maximal Frequent Itemsets:**\n",
    "\n",
    "We need to check each frequent itemset and ensure there is no superset with the same or higher frequency.\n",
    "\n",
    "- Maximal Frequent Itemsets for Support ≥ 2:\n",
    "    - {a, e, f}: No superset has the same or greater support.\n",
    "    - {b, c}: No superset has the same or greater support.\n",
    "    - {b, d}: No superset has the same or greater support.\n",
    "\n",
    "Other frequent itemsets such as {d, f} and {e, f} are not maximal because {a, d, e, f} and {a, e, f} include these items with equal or greater support.\n",
    "\n",
    "- Maximal Frequent Itemsets for Support ≥ 3:\n",
    "    - {e, f}: No superset of {e, f} is frequent at this level of support.\n",
    "\n",
    "Note that the individual items {a}, {b}, {d}, {f} are not maximal as they are parts of larger frequent itemsets at this level.\n",
    "\n",
    "- Maximal Frequent Itemsets for Support ≥ 4:\n",
    "    - {f}: As {f} is the only itemset frequent at this level, and no superset of {f} meets this threshold, it is maximal by default.\n",
    "\n",
    "#### **Conclusion:**\n",
    "Here are the maximal frequent itemsets for each support threshold:\n",
    "\n",
    "- Support ≥ 2: {a, e, f}, {b, c}, {b, d}\n",
    "- Support ≥ 3: {e, f}\n",
    "- Support ≥ 4: {f}\n",
    "\n",
    "These itemsets represent the largest sets of items that frequently appear together in the database without any extension that remains frequent under the respective thresholds."
   ]
  },
  {
   "cell_type": "markdown",
   "metadata": {},
   "source": [
    "----------------------------------------------------------------------------------------"
   ]
  },
  {
   "cell_type": "markdown",
   "metadata": {},
   "source": [
    "### *For exercise 4:\n",
    "To represent the transaction database from Exercise 1 in a vertical format, we list each item along with the set of transaction IDs (tids) in which the item appears. This format is particularly useful for efficient computation of itemset supports in frequent pattern mining, allowing easier intersection of sets to find common transactions.\n",
    "\n",
    "**Here is the vertical representation of the database:**\n",
    "\n",
    "```css\n",
    "| Items |     Appears     |\n",
    "|-------|-----------------|\n",
    "|   a   |     {1, 3, 4}   |\n",
    "|   b   |     {1, 2, 5}   |\n",
    "|   c   |     {1, 2}      |\n",
    "|   d   |     {1, 3, 5}   |\n",
    "|   e   |     {2, 3, 4}   |\n",
    "|   f   |     {2, 3, 4, 5}|\n",
    "```\n",
    "**Explanation:**\n",
    "- a: Appears in transactions 1, 3, and 4.\n",
    "- b: Appears in transactions 1, 2, and 5.\n",
    "- c: Appears in transactions 1 and 2.\n",
    "- d: Appears in transactions 1, 3, and 5.\n",
    "- e: Appears in transactions 2, 3, and 4.\n",
    "- f: Appears in transactions 2, 3, 4, and 5.\n",
    "\n",
    "This vertical format helps in quickly identifying the transactions associated with each item, facilitating operations like intersections for computing supports of larger itemsets."
   ]
  },
  {
   "cell_type": "markdown",
   "metadata": {},
   "source": [
    "----------------------------------------------------------------"
   ]
  },
  {
   "cell_type": "markdown",
   "metadata": {},
   "source": [
    "### *For exercise 5:\n",
    "\n",
    "To determine all frequent patterns and maximal patterns at the specified support levels (3, 4, and 5) from the given transaction database, we'll first establish the support for all possible itemsets and then filter them by the desired thresholds. We will then identify the maximal patterns among those frequent patterns.\n",
    "\n",
    "#### **Step 1: Create Vertical Format Data**\n",
    "First, let's convert the transaction data to vertical format to facilitate support calculation:\n",
    "\n",
    "```css\n",
    "| Items |          Appears         |\n",
    "|-------|--------------------------|\n",
    "|   a   | {1, 2}                   |\n",
    "|   b   | {3, 4, 5}                |\n",
    "|   c   | {1, 3, 6, 7}             |\n",
    "|   d   | {1, 2, 3, 4, 6, 8}       |\n",
    "|   e   | {1, 2, 3, 4, 5, 6, 7, 8} |\n",
    "|   f   | {2, 3, 4, 5, 7, 8}       |\n",
    "```\n",
    "#### **Step 2: Compute Supports for Itemsets**\n",
    "We will use intersections of these sets to calculate supports for various itemsets:\n",
    "\n",
    "- Single items:\n",
    "    - a: 2\n",
    "    - b: 3\n",
    "    - c: 4\n",
    "    - d: 6\n",
    "    - e: 8\n",
    "    - f: 6\n",
    "- Pairs (calculated for selected frequent pairs based on individual item supports):\n",
    "    - {d, e}: 6\n",
    "    - {e, f}: 6\n",
    "    - {d, f}: 5\n",
    "- Triples and beyond (only those that can be potentially frequent):\n",
    "    - {d, e, f}: 4\n",
    "#### **Step 3: Frequent Itemsets**\n",
    "Now we'll filter these by the specified support thresholds:\n",
    "\n",
    "- Support ≥ 3:\n",
    "    - {b}, {c}, {d}, {e}, {f}\n",
    "    - {d, e}, {e, f}, {d, f}\n",
    "    - {d, e, f}\n",
    "- Support ≥ 4:\n",
    "    - {c}, {d}, {e}, {f}\n",
    "    - {d, e}, {e, f}, {d, f}\n",
    "    - {d, e, f}\n",
    "- Support ≥ 5:\n",
    "    - {d}, {e}, {f}\n",
    "    - {d, e}, {e, f}\n",
    "- Note: {d, f} and {d, e, f} fall just below this threshold.\n",
    "#### **Step 4: Maximal Frequent Itemsets**\n",
    "To identify maximal patterns, we look for frequent itemsets that are not subsets of other frequent itemsets at the same support level:\n",
    "\n",
    "- Maximal at Support ≥ 3:\n",
    "    - {d, e, f} (it's the largest itemset frequent at this level, not contained fully within any other itemset)\n",
    "- Maximal at Support ≥ 4:\n",
    "    - {d, e, f} (still maximal as it's the largest frequent itemset not surpassed in frequency)\n",
    "- Maximal at Support ≥ 5:\n",
    "    - {d, e}, {e, f} (both are the largest combinations without being subsets at this threshold; {def} falls below this support)\n",
    "\n",
    "### **Summary:**\n",
    "The calculated frequent and maximal itemsets reflect how sets of items appear together in transactions with at least the minimum frequency levels of 3, 4, and 5. These insights could be useful for identifying strong associations and potential rules in a market basket analysis or similar data mining tasks."
   ]
  },
  {
   "cell_type": "markdown",
   "metadata": {},
   "source": [
    "---"
   ]
  },
  {
   "cell_type": "markdown",
   "metadata": {},
   "source": [
    "<center> End. </center>"
   ]
  }
 ],
 "metadata": {
  "kernelspec": {
   "display_name": "Python 3",
   "language": "python",
   "name": "python3"
  },
  "language_info": {
   "codemirror_mode": {
    "name": "ipython",
    "version": 3
   },
   "file_extension": ".py",
   "mimetype": "text/x-python",
   "name": "python",
   "nbconvert_exporter": "python",
   "pygments_lexer": "ipython3",
   "version": "3.11.0"
  }
 },
 "nbformat": 4,
 "nbformat_minor": 2
}
