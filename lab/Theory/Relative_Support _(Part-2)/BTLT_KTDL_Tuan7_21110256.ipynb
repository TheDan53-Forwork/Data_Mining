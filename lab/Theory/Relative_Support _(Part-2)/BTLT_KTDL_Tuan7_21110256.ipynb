{
 "cells": [
  {
   "cell_type": "markdown",
   "metadata": {},
   "source": [
    "# <center> Bài tập Lý thuyết môn Khai phá Dữ liệu </center>"
   ]
  },
  {
   "cell_type": "markdown",
   "metadata": {},
   "source": [
    "### **Họ và tên:** Huỳnh Nguyễn Thế Dân\n",
    "### **MSSV:** 21110256\n",
    "### **Lớp:** 21TTH1\n"
   ]
  },
  {
   "cell_type": "markdown",
   "metadata": {},
   "source": [
    "## <center> Questions </center>"
   ]
  },
  {
   "cell_type": "markdown",
   "metadata": {},
   "source": [
    "### 6. Represent the transaction database of Exercise 5 in vertical format."
   ]
  },
  {
   "cell_type": "markdown",
   "metadata": {},
   "source": [
    "### 7. Determine the confidence of the rules {a} ⇒ {f}, and {a, e} ⇒ {f} for the transaction database in Exercise 1."
   ]
  },
  {
   "cell_type": "markdown",
   "metadata": {},
   "source": [
    "### 8. Determine the confidence of the rules {a} ⇒ {f}, and {a, e} ⇒ {f} for the transaction database in Exercise 5."
   ]
  },
  {
   "cell_type": "markdown",
   "metadata": {},
   "source": [
    "### 9. Show the candidate itemsets and the frequent itemsets in each level-wise pass of the Apriori algorithm in Exercise 1. Assume an absolute minimum support level of 2."
   ]
  },
  {
   "cell_type": "markdown",
   "metadata": {},
   "source": [
    "----------------------------------------------------------------"
   ]
  },
  {
   "cell_type": "markdown",
   "metadata": {},
   "source": [
    "## <center> Answer </center>"
   ]
  },
  {
   "cell_type": "markdown",
   "metadata": {},
   "source": [
    "### *For exercise 6:\n",
    "\n",
    "To represent the transaction database from Exercise 5 in a vertical format, we list each item along with the set of transaction IDs (tids) in which the item appears. This format is particularly useful for efficient computation of itemset supports in frequent pattern mining, allowing easier intersection of sets to find common transactions.\n",
    "\n",
    "**Here is the vertical representation of the database:**\n",
    "\n",
    "```css\n",
    "| Items |            Appears           |\n",
    "|-------|------------------------------|\n",
    "|   a   |    {1, 2}                    |\n",
    "|   b   |    {3, 4, 5}                 |\n",
    "|   c   |    {1, 3, 6, 7}              |\n",
    "|   d   |    {1, 2, 3, 4, 6, 8}        |\n",
    "|   e   |    {1, 2, 3, 4, 5, 6, 7, 8}  |\n",
    "|   f   |    {2, 3, 4, 5, 7, 8}        |\n",
    "```\n",
    "**Explanation:**\n",
    "- a: Appears in transactions 1 and 2.\n",
    "- b: Appears in transactions 3, 4, and 5.\n",
    "- c: Appears in transactions 1, 3, 6 and 7.\n",
    "- d: Appears in transactions 1, 2, 3, 4, 6 and 8.\n",
    "- e: Appears in transactions 1, 2, 3, 4, 6, 7 and 8.\n",
    "- f: Appears in transactions 2, 3, 4, 5, 7 and 8.\n",
    "\n",
    "This vertical format helps in quickly identifying the transactions associated with each item, facilitating operations like intersections for computing supports of larger itemsets."
   ]
  },
  {
   "cell_type": "markdown",
   "metadata": {},
   "source": [
    "----------------------------------------------------------------"
   ]
  },
  {
   "cell_type": "markdown",
   "metadata": {},
   "source": [
    "### *For exercise 7:\n",
    "To determine the confidence of the association rules {a} ⇒ {f}, and {a, e} ⇒ {f} from the given transaction data, we'll first count the occurrences of each itemset in the transactions.\n",
    "\n",
    "**Association Rule Confidence Formula:**\n",
    "\n",
    "$ \\text{Confidence}({A} \\Rightarrow {B}) = \\frac{\\text{Support}(A, B)}{\\text{Support}(A)} $\n",
    "\n",
    "where:\n",
    "\n",
    "- Support(A) is the proportion of transactions that contain the itemset A.\n",
    "- Support(A, B) is the proportion of transactions that contain both itemsets A and B.\n",
    "\n",
    "**The support counts for each itemset in the transactions are as follows:**\n",
    "- Support(a) = 3\n",
    "- Support(a, f) = 2\n",
    "- Support(a, e) = 2\n",
    "- Support(a, e, f) = 2\n",
    "\n",
    "### Confidence Calculations:\n",
    "\n",
    "#### Rule: {a} ⇒ {f}\n",
    "$ \\text{Confidence}({a} \\Rightarrow {f}) = \\frac{\\text{Support}(a, f)}{\\text{Support}(a)} = \\frac{2}{3} \\approx 0.67 \\text{ or } 67\\% $\n",
    "\n",
    "#### Rule: {a, e} ⇒ {f}\n",
    "$ \\text{Confidence}({a, e} \\Rightarrow {f}) = \\frac{\\text{Support}(a, e, f)}{\\text{Support}(a, e)} = \\frac{2}{2} = 1.0 \\text{ or } 100\\% $\n"
   ]
  },
  {
   "cell_type": "markdown",
   "metadata": {},
   "source": [
    "----------------------------------------------------------------"
   ]
  },
  {
   "cell_type": "markdown",
   "metadata": {},
   "source": [
    "### *For exercise 8:\n",
    "**The support counts for each itemset in the transactions are as follows:**\n",
    "- Support(a) = 2\n",
    "- Support(a, f) = 1\n",
    "- Support(a, e) = 2\n",
    "- Support(a, e, f) = 1\n",
    "\n",
    "### Confidence Calculations:\n",
    "\n",
    "#### Rule: {a} ⇒ {f}\n",
    "$ \\text{Confidence}({a} \\Rightarrow {f}) = \\frac{\\text{Support}(a, f)}{\\text{Support}(a)} = \\frac{1}{2} = 0.5 \\text{ or } 50\\% $\n",
    "\n",
    "#### Rule: {a, e} ⇒ {f}\n",
    "$ \\text{Confidence}({a, e} \\Rightarrow {f}) = \\frac{\\text{Support}(a, e, f)}{\\text{Support}(a, e)} = \\frac{1}{2} = 0.5 \\text{ or } 50\\% $"
   ]
  },
  {
   "cell_type": "markdown",
   "metadata": {},
   "source": [
    "----------------------------------------------------------------------------------------"
   ]
  },
  {
   "cell_type": "markdown",
   "metadata": {},
   "source": [
    "### *For exercise 9:\n",
    "\n",
    "Let's proceed with the Apriori algorithm for the given data, where each transaction includes a set of items and we need to find frequent itemsets with a minimum support threshold of 2.\n",
    "\n",
    "**Step 1: Count the frequency of each item**\n",
    "- a: Transactions 1, 3, 4\n",
    "- b: Transactions 1, 2, 5\n",
    "- c: Transactions 1, 2\n",
    "- d: Transactions 1, 3, 5\n",
    "- e: Transactions 2, 3, 4\n",
    "- f: Transactions 2, 3, 4, 5\n",
    "\n",
    "**Step 2: Determine Frequent 1-itemsets (L1)**\n",
    "- {a} appears 3 times.\n",
    "- {b} appears 3 times.\n",
    "- {c} appears 2 times.\n",
    "- {d} appears 3 times.\n",
    "- {e} appears 3 times.\n",
    "- {f} appears 4 times.\n",
    "\n",
    "All items have a support of at least 2, so all are frequent.\n",
    "\n",
    "**Step 3: Generate Candidate 2-itemsets (C2) from (L1)**\n",
    "\n",
    "- Possible combinations of the frequent 1-itemsets are:\n",
    "    - {a, b}, {a, c}, {a, d}, {a, e}, {a, f}\n",
    "    - {b, c}, {b, d}, {b, e}, {b, f}\n",
    "    - {c, d}, {c, e}, {c, f}\n",
    "    - {d, e}, {d, f}\n",
    "    - {e, f}\n",
    "\n",
    "**Step 4: Determine Frequent 2-itemsets (L2)**\n",
    "- Count the occurrences of each 2-itemset:\n",
    "    - {a, b}: Transaction 1 (1 time)\n",
    "    - {a, c}: Transaction 1 (1 time)\n",
    "    - {a, d}: Transactions 1, 3 (2 times)\n",
    "    - {a, e}: Transactions 3, 4 (2 times)\n",
    "    - {a, f}: Transactions 3, 4 (2 times)\n",
    "    - {b, c}: Transactions 1, 2 (2 times)\n",
    "    - {b, d}: Transactions 1, 5 (2 times)\n",
    "    - {b, e}: Transaction 2 (1 time)\n",
    "    - {b, f}: Transactions 2, 5 (2 times)\n",
    "    - {c, d}: Transaction 1 (1 time)\n",
    "    - {c, e}: Transaction 2 (1 time)\n",
    "    - {c, f}: Transaction 2 (1 time)\n",
    "    - {d, e}: Transaction 3 (1 time)\n",
    "    - {d, f}: Transactions 3, 5 (2 times)\n",
    "    - {e, f}: Transactions 2, 3, 4 (3 times)\n",
    "\n",
    "- *Frequent 2-itemsets:*\n",
    "    - {a, d}, {a, e}, {a, f}, {b, c}, {b, d}, {b, f}, {d, f}, {e, f}\n",
    "\n",
    "**Step 5: Generate Candidate 3-itemsets (C3) from (L2)**\n",
    "\n",
    "- Possible combinations of the frequent 2-itemsets are:\n",
    "    - {a, d, e}, {a, d, f}, {a, e, f}\n",
    "    - {b, c, d}, {b, c, f}, {b, d, f}\n",
    "    - {d, e, f}\n",
    "\n",
    "**Step 6: Determine Frequent 3-itemsets (L3)**\n",
    "\n",
    "- Count the occurrences:\n",
    "    - {a, d, e}: Transaction 3 (1 time)\n",
    "    - {a, d, f}: Transactions 3 (1 time)\n",
    "    - {a, e, f}: Transactions 3, 4 (2 times)\n",
    "    - {b, c, d}: Transaction 1 (1 time)\n",
    "    - {b, c, f}: Transaction 2 (1 time)\n",
    "    - {b, d, f}: Transactions 5 (1 time)\n",
    "    - {d, e, f}: Transactions 3 (1 time)\n",
    "\n",
    "- *Frequent 3-itemsets:*\n",
    "    - {a, e, f}\n",
    "\n",
    "**Conclusion**\n",
    "- Frequent 1-itemsets (L1): {a}, {b}, {c}, {d}, {e}, {f}\n",
    "- Frequent 2-itemsets (L2): {a, d}, {a, e}, {a, f}, {b, c}, {b, d}, {b, f}, {d, f}, {e, f}\n",
    "- Frequent 3-itemsets (L3): {a, e, f}\n",
    "\n",
    "This breakdown covers each step of the Apriori algorithm, detailing the candidate and frequent itemsets at each level."
   ]
  },
  {
   "cell_type": "markdown",
   "metadata": {},
   "source": [
    "----------------------------------------------------------------"
   ]
  },
  {
   "cell_type": "markdown",
   "metadata": {},
   "source": [
    "**<center> End. </center>**"
   ]
  }
 ],
 "metadata": {
  "kernelspec": {
   "display_name": "Python 3",
   "language": "python",
   "name": "python3"
  },
  "language_info": {
   "codemirror_mode": {
    "name": "ipython",
    "version": 3
   },
   "file_extension": ".py",
   "mimetype": "text/x-python",
   "name": "python",
   "nbconvert_exporter": "python",
   "pygments_lexer": "ipython3",
   "version": "3.11.0"
  }
 },
 "nbformat": 4,
 "nbformat_minor": 2
}
