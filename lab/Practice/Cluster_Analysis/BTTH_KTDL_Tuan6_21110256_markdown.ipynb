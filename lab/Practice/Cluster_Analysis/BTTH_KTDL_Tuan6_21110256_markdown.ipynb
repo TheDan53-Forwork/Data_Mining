{
 "cells": [
  {
   "cell_type": "markdown",
   "metadata": {},
   "source": [
    "# <center> Bài tập Thực hành môn Khai phá Dữ liệu </center>"
   ]
  },
  {
   "cell_type": "markdown",
   "metadata": {},
   "source": [
    "### **Họ và tên:** Huỳnh Nguyễn Thế Dân\n",
    "### **MSSV:** 21110256\n",
    "### **Lớp:** 21TTH1"
   ]
  },
  {
   "cell_type": "markdown",
   "metadata": {},
   "source": [
    "## Cài đặt thuật toán K_medians"
   ]
  },
  {
   "cell_type": "markdown",
   "metadata": {},
   "source": [
    "### **<center> Định nghĩa hàm MDE </center>**"
   ]
  },
  {
   "cell_type": "markdown",
   "metadata": {},
   "source": [
    "```python\n",
    "def MDE(a, b):\n",
    "    # Hàm MDE nhận vào hai tham số, a và b.\n",
    "    return np.sum(np.abs(a - b))  # Trả về tổng của giá trị tuyệt đối của hiệu giữa các phần tử tương ứng của a và b.\n",
    "```"
   ]
  },
  {
   "cell_type": "markdown",
   "metadata": {},
   "source": [
    "#### **<center> Tóm tắt thuật toán:</center>**\n",
    "- **Chức năng của hàm**: Hàm MDE tính toán khoảng cách Manhattan giữa hai mảng (hoặc hai vector) a và b. Khoảng cách Manhattan, còn được biết đến với tên gọi khoảng cách L1, là tổng các giá trị tuyệt đối của hiệu giữa các phần tử tương ứng của hai mảng.\n",
    "\n",
    "- **Cách thức hoạt động**:\n",
    "\n",
    "    - a - b: Tính hiệu giữa từng cặp phần tử tương ứng của hai mảng a và b.\n",
    "    - np.abs(...): Lấy giá trị tuyệt đối của từng phần tử trong mảng kết quả từ bước trước.\n",
    "    - np.sum(...): Tính tổng của các giá trị tuyệt đối vừa thu được, đây chính là giá trị của khoảng cách Manhattan."
   ]
  },
  {
   "cell_type": "markdown",
   "metadata": {},
   "source": [
    "----------------------------------------------------------------"
   ]
  },
  {
   "cell_type": "markdown",
   "metadata": {},
   "source": [
    "### **<center> Định nghĩa hàm k_median_centroid_assignation </center>**"
   ]
  },
  {
   "cell_type": "markdown",
   "metadata": {},
   "source": [
    "```python\n",
    "def k_median_centroid_assignation(dset, centroids):\n",
    "    '''\n",
    "        Given a dataframe 'dset' and a set of 'centroids', we assign each\n",
    "        data point in 'dset' to a centroid.\n",
    "        - dset - pandas dataframe with observations\n",
    "        - centroids - pandas dataframe with centroids\n",
    "    '''\n",
    "    # Số lượng centroids\n",
    "    k = centroids.shape[0]  \n",
    "    # Số lượng quan sát trong dset\n",
    "    n = dset.shape[0]  \n",
    "    # Danh sách để lưu trữ thông tin về centroid gần nhất cho mỗi quan sát\n",
    "    assignation = []  \n",
    "    # Danh sách để lưu trữ khoảng cách từ mỗi quan sát đến centroid gần nhất của nó\n",
    "    assign_errors = []  \n",
    "    \n",
    "    # Duyệt qua mỗi quan sát trong dset\n",
    "    for obs in range(n):\n",
    "        # Khởi tạo mảng để lưu trữ các khoảng cách từ quan sát hiện tại đến mỗi centroid\n",
    "        all_errors = np.array([])  \n",
    "        # Duyệt qua mỗi centroid\n",
    "        for centroid in range(k):\n",
    "            # Tính khoảng cách Manhattan từ centroid này đến quan sát hiện tại\n",
    "            error = MDE(centroids.iloc[centroid,:], dset.iloc[obs,:])  \n",
    "            # Lưu trữ khoảng cách này vào mảng all_errors\n",
    "            all_errors = np.append(all_errors, error)  \n",
    "\n",
    "        # Xác định centroid có khoảng cách nhỏ nhất đến quan sát hiện tại\n",
    "        nearest_centroid = np.where(all_errors == np.amin(all_errors))[0].tolist()[0]  \n",
    "        # Khoảng cách nhỏ nhất từ quan sát hiện tại đến centroid\n",
    "        nearest_centroid_error = np.amin(all_errors)  \n",
    "\n",
    "        # Thêm centroid gần nhất và khoảng cách của nó vào các danh sách tương ứng\n",
    "        assignation.append(nearest_centroid)  \n",
    "        assign_errors.append(nearest_centroid_error)  \n",
    "    return assignation, assign_errors  \n"
   ]
  },
  {
   "cell_type": "markdown",
   "metadata": {},
   "source": [
    "#### **<center> Tóm tắt thuật toán:</center>**\n",
    "Hàm này được sử dụng trong bối cảnh phân cụm, nơi bạn có một tập hợp dữ liệu và một số centroids đã được xác định. Mục đích của hàm là gán mỗi điểm dữ liệu trong tập hợp dset tới centroid gần nhất dựa trên khoảng cách Manhattan, được tính toán bởi hàm MDE.\n",
    "\n",
    "- **Duyệt Qua Dữ Liệu**: Hàm duyệt qua mỗi quan sát trong dataframe dset.\n",
    "- **Tính Khoảng Cách**: Với mỗi quan sát, hàm tính toán khoảng cách từ quan sát đến từng centroid trong centroids.\n",
    "- **Chọn Centroid Gần Nhất**: Sau khi tính toán, hàm xác định centroid có khoảng cách nhỏ nhất đến quan sát đó.\n",
    "- **Lưu Kết Quả**: Kết quả được lưu trữ dưới dạng danh sách các centroids gần nhất và khoảng cách tới các centroids đó từ mỗi quan sát.\n",
    "\n",
    "Hàm trả về hai danh sách: một danh sách các chỉ số của centroids gần nhất cho mỗi quan sát và một danh sách các khoảng cách từ mỗi quan sát đến centroid gần nhất của nó. Hàm này hữu ích trong việc thiết lập các bước đầu tiên của thuật toán K-Medians hoặc các thuật toán phân cụm tương tự."
   ]
  },
  {
   "cell_type": "markdown",
   "metadata": {},
   "source": [
    "------- "
   ]
  },
  {
   "cell_type": "markdown",
   "metadata": {},
   "source": [
    "### **<center> Định nghĩa hàm k_median_centroid_assignation </center>**"
   ]
  },
  {
   "cell_type": "markdown",
   "metadata": {},
   "source": [
    "```python\n",
    "def Kmedians(dset, k=2, tol=1e-4):\n",
    "    '''\n",
    "        K-medians implementation for a\n",
    "        'dset': DataFrame with observations\n",
    "        'k': Number of cluster, default k=2\n",
    "        'tol': Tolerance = 1E-4\n",
    "    '''\n",
    "\n",
    "    # Tạo một bản sao của tập dữ liệu để tránh chỉnh sửa trực tiếp lên dữ liệu gốc\n",
    "    working_dset = dset.copy()\n",
    "    # Khởi tạo các biến để lưu trữ lỗi, tín hiệu dừng và đếm số lần lặp\n",
    "    error = []\n",
    "    goAHead = True\n",
    "    iteration = 0\n",
    "\n",
    "    # Bước 2: Khởi tạo các cluster bằng cách xác định centroids\n",
    "    centroids = initiate_centroids(k, dset)\n",
    "\n",
    "    # Vòng lặp chính của thuật toán\n",
    "    while (goAHead):\n",
    "        # Bước 3 và 4: Gán centroids và tính toán lỗi\n",
    "        working_dset['centroid'], iteration_error = k_median_centroid_assignation(working_dset, centroids)\n",
    "        error.append(sum(iteration_error))\n",
    "\n",
    "        # Bước 5: Cập nhật vị trí của các centroids\n",
    "        centroids = working_dset.groupby('centroid').agg('median').reset_index(drop=True)\n",
    "\n",
    "        # Bước 6: Khởi động lại vòng lặp\n",
    "        if iteration > 0:\n",
    "            # Kiểm tra nếu lỗi giảm ít hơn ngưỡng cho phép (1E-4)\n",
    "            if error[iteration-1] - error[iteration] <= tol:\n",
    "                goAHead = False\n",
    "        iteration += 1\n",
    "    \n",
    "    # Cuối cùng, thực hiện một lần gán centroid và tính toán lỗi\n",
    "    working_dset['centroid'], iteration_error = k_median_centroid_assignation(working_dset, centroids)\n",
    "    centroids = working_dset.groupby('centroid').agg('median').reset_index(drop=True)\n",
    "    return working_dset['centroid'], iteration_error, centroids\n"
   ]
  },
  {
   "cell_type": "markdown",
   "metadata": {},
   "source": [
    "#### **<center> Tóm tắt thuật toán:</center>**\n",
    "Hàm Kmedians là một cài đặt của thuật toán phân cụm K-medians, sử dụng khoảng cách Manhattan để gán mỗi điểm dữ liệu vào một trong số k centroids. Thuật toán lặp lại quá trình này cho đến khi sự thay đổi trong tổng lỗi giữa các lần lặp nhỏ hơn một giá trị ngưỡng nhất định (tol), cho thấy sự ổn định của các centroids.\n",
    "\n",
    "- **Khởi tạo và chuẩn bị**: Hàm bắt đầu bằng cách tạo một bản sao của tập dữ liệu để tránh sửa đổi dữ liệu gốc và khởi tạo các biến cần thiết cho quá trình lặp.\n",
    "- **Xác định Centroids ban đầu**: Hàm gọi initiate_centroids để tạo các centroids ban đầu.\n",
    "- **Phân Centroids và Tính toán Lỗi**: Sử dụng hàm k_median_centroid_assignation, mỗi điểm dữ liệu được gán cho centroid gần nhất, và lỗi được tính toán dựa trên khoảng cách từ điểm đến centroid của nó.\n",
    "- **Cập nhật Centroids**: Centroids được cập nhật bằng cách tính trung vị của các điểm dữ liệu đã được gán cho từng centroid.\n",
    "- **Kiểm tra Điều kiện Dừng**: Nếu sự thay đổi trong lỗi nhỏ hơn ngưỡng cho phép, quá trình lặp sẽ dừng lại.\n",
    "- **Trả về kết quả**: Cuối cùng, hàm trả về danh sách centroids, các lỗi tương ứng và các nhóm (centroid gán cho mỗi điểm).\n",
    "\n",
    "Hàm này hữu ích cho việc phân tích dữ liệu không giám sát, giúp phát hiện các nhóm tự nhiên trong dữ liệu dựa trên các tính năng được cung cấp."
   ]
  },
  {
   "cell_type": "markdown",
   "metadata": {},
   "source": [
    "----    "
   ]
  },
  {
   "cell_type": "markdown",
   "metadata": {},
   "source": [
    "**<center> Hết. </center>**"
   ]
  }
 ],
 "metadata": {
  "kernelspec": {
   "display_name": "Python 3",
   "language": "python",
   "name": "python3"
  },
  "language_info": {
   "codemirror_mode": {
    "name": "ipython",
    "version": 3
   },
   "file_extension": ".py",
   "mimetype": "text/x-python",
   "name": "python",
   "nbconvert_exporter": "python",
   "pygments_lexer": "ipython3",
   "version": "3.11.0"
  }
 },
 "nbformat": 4,
 "nbformat_minor": 2
}
