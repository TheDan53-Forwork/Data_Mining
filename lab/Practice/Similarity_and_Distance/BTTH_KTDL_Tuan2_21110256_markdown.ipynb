{
 "cells": [
  {
   "cell_type": "markdown",
   "metadata": {},
   "source": [
    "# <center> Bài tập Thực hành môn Khai phá Dữ liệu </center>"
   ]
  },
  {
   "cell_type": "markdown",
   "metadata": {},
   "source": [
    "### **Họ và tên:** Huỳnh Nguyễn Thế Dân\n",
    "### **MSSV:** 21110256\n",
    "### **Lớp:** 21TTH1"
   ]
  },
  {
   "cell_type": "markdown",
   "metadata": {},
   "source": [
    "##  1. Khoảng cách giữa các điểm trong dữ liệu số"
   ]
  },
  {
   "cell_type": "markdown",
   "metadata": {},
   "source": [
    "```python\n",
    "import pandas as pd  # Import thư viện pandas với tên viết tắt pd\n",
    "import numpy as np   # Import thư viện numpy với tên viết tắt np\n",
    "\n",
    "# Đọc dữ liệu từ tệp 'ionosphere\\ionosphere.data' vào DataFrame df, không có dòng tiêu đề\n",
    "df = pd.read_csv('ionosphere\\\\ionosphere.data', header=None)\n",
    "\n",
    "# Hiển thị 5 dòng đầu tiên của DataFrame df\n",
    "display(df.head())\n",
    "\n",
    "# Hiển thị thông tin tổng quan về DataFrame df, bao gồm số lượng hàng, số lượng cột và các loại dữ liệu của cột\n",
    "df.info()\n",
    "\n",
    "# Loại bỏ cột cuối cùng của DataFrame df\n",
    "df.pop(df.columns[34])\n",
    "\n",
    "# Hiển thị DataFrame df sau khi loại bỏ cột cuối cùng\n",
    "display(df)\n",
    "\n",
    "# Chuyển DataFrame df thành một mảng numpy\n",
    "array = df.values\n",
    "\n",
    "# Lấy các điểm dữ liệu đầu tiên, thứ hai và thứ ba từ mảng numpy\n",
    "point1 = array[0,:]\n",
    "point2 = array[1,:]\n",
    "point3 = array[2,:]\n",
    "\n",
    "# Tính khoảng cách Manhattan (P = 1) giữa các điểm point1 và point2, point1 và point3\n",
    "dist1_1_2 = np.linalg.norm(point1 - point2, 1)\n",
    "dist1_1_3 = np.linalg.norm(point1 - point3, 1)\n",
    "\n",
    "# In ra khoảng cách Manhattan (P = 1) giữa các điểm point1 và point2, point1 và point3\n",
    "print('Dist 1 of point1 and point2: ', dist1_1_2)\n",
    "print('Dist 1 of point1 and point3: ', dist1_1_3)\n",
    "\n",
    "# Tính khoảng cách Euclidean (P = 2) giữa các điểm point1 và point2, point1 và point3\n",
    "dist2_1_2 = np.linalg.norm(point1 - point2)\n",
    "dist2_1_3 = np.linalg.norm(point1 - point3)\n",
    "\n",
    "# In ra khoảng cách Euclidean (P = 2) giữa các điểm point1 và point2, point1 và point3\n",
    "print('Dist 2 of point1 and point2: ', dist2_1_2)\n",
    "print('Dist 2 of point1 and point3: ', dist2_1_3)\n",
    "\n",
    "# Tính khoảng cách Chebyshev (P = ∞) giữa các điểm point1 và point2, point1 và point3\n",
    "distInf_1_2 = np.linalg.norm(point1 - point2, np.inf)\n",
    "distInf_1_3 = np.linalg.norm(point1 - point3, np.inf)\n",
    "\n",
    "# In ra khoảng cách Chebyshev (P = ∞) giữa các điểm point1 và point2, point1 và point3\n",
    "print('Dist ∞ of point1 and point2: ', distInf_1_2)\n",
    "print('Dist ∞ of point1 and point3: ', distInf_1_3)\n",
    "```"
   ]
  },
  {
   "cell_type": "markdown",
   "metadata": {},
   "source": [
    "### Đoạn code thực hiện các bước sau:\n",
    "\n",
    "- Đọc dữ liệu từ tệp 'ionosphere\\ionosphere.data' vào DataFrame.\n",
    "- Hiển thị 5 dòng đầu tiên và thông tin tổng quan của DataFrame.\n",
    "- Loại bỏ cột cuối cùng của DataFrame.\n",
    "- Chuyển DataFrame thành mảng numpy và lấy các điểm dữ liệu đầu tiên, thứ hai và thứ ba.\n",
    "- Tính và in ra khoảng cách Manhattan, Euclidean và Chebyshev giữa các điểm được chọn."
   ]
  },
  {
   "cell_type": "markdown",
   "metadata": {},
   "source": [
    "## 2. Độ đo tương đồng giữa các điểm trong tập dữ liệu categorical"
   ]
  },
  {
   "cell_type": "markdown",
   "metadata": {},
   "source": [
    "```python\n",
    "import pandas as pd  # Import thư viện pandas với tên viết tắt pd\n",
    "import numpy as np   # Import thư viện numpy với tên viết tắt np\n",
    "from sklearn.preprocessing import KBinsDiscretizer  # Import công cụ KBinsDiscretizer từ sklearn\n",
    "from sklearn.preprocessing import StandardScaler   # Import công cụ StandardScaler từ sklearn\n",
    "\n",
    "# Đọc dữ liệu từ tệp \"kddcup.data\\kddcup.data.corrected\" vào DataFrame\n",
    "df = pd.read_csv(\"kddcup.data\\\\kddcup.data.corrected\", header=None)\n",
    "\n",
    "# Hiển thị 5 dòng đầu tiên của DataFrame ban đầu\n",
    "display(df.head())\n",
    "\n",
    "# Loại bỏ các cột có chỉ số 1, 2, 3 và 41 khỏi DataFrame\n",
    "df = df.drop([1, 2, 3, 41], axis=1)\n",
    "\n",
    "# Hiển thị DataFrame sau khi loại bỏ các cột\n",
    "display(df)\n",
    "\n",
    "# Chuyển DataFrame thành mảng numpy và chuẩn hóa dữ liệu bằng StandardScaler\n",
    "arr = df.values\n",
    "scaler = StandardScaler()\n",
    "arr_scaled = scaler.fit_transform(arr)\n",
    "\n",
    "# Hiển thị DataFrame sau khi dữ liệu đã được chuẩn hóa\n",
    "display(pd.DataFrame(arr_scaled))\n",
    "\n",
    "# Áp dụng phân loại thành các bin bằng phương pháp KBinsDiscretizer với 10 bin, sử dụng phương pháp đồng đều và mã hóa dưới dạng số nguyên\n",
    "kbins = KBinsDiscretizer(n_bins=10, encode='ordinal', strategy='uniform')\n",
    "data_equi_width = kbins.fit_transform(arr_scaled)\n",
    "\n",
    "# Hiển thị DataFrame chứa dữ liệu đã được phân loại thành các bin\n",
    "data_categorical = pd.DataFrame(data_equi_width)\n",
    "display(data_categorical)\n",
    "```"
   ]
  },
  {
   "cell_type": "markdown",
   "metadata": {},
   "source": [
    "### Đoạn code trên thực hiện các bước sau:\n",
    "\n",
    "- Import thư viện pandas, numpy và các công cụ từ sklearn cần thiết.\n",
    "- Đọc dữ liệu từ tệp \"kddcup.data\\kddcup.data.corrected\" vào DataFrame.\n",
    "- Hiển thị 5 dòng đầu tiên của DataFrame ban đầu.\n",
    "- Loại bỏ các cột có chỉ số 1, 2, 3 và 41 khỏi DataFrame.\n",
    "- Chuyển DataFrame thành mảng numpy và chuẩn hóa dữ liệu bằng StandardScaler.\n",
    "- Hiển thị DataFrame sau khi dữ liệu đã được chuẩn hóa.\n",
    "- Áp dụng phân loại thành các bin bằng phương pháp KBinsDiscretizer với 10 bin, sử dụng phương pháp đồng đều và mã hóa dưới dạng số nguyên.\n",
    "- Hiển thị DataFrame chứa dữ liệu đã được phân loại thành các bin."
   ]
  },
  {
   "cell_type": "markdown",
   "metadata": {},
   "source": [
    "## 3. Yêu cầu:"
   ]
  },
  {
   "cell_type": "markdown",
   "metadata": {},
   "source": [
    "```python\n",
    "import numpy as np  # Import thư viện numpy\n",
    "\n",
    "# Khởi tạo ma trận dist1 để lưu trữ khoảng cách Manhattan (P = 1) giữa mỗi cặp điểm trong mảng array\n",
    "dist1 = np.zeros((50, 50))\n",
    "\n",
    "# Tính khoảng cách Manhattan giữa mỗi cặp điểm trong mảng array và lưu vào ma trận dist1\n",
    "for i in range(50):\n",
    "    for j in range(50):\n",
    "        dist1[i, j] = np.linalg.norm(array[i] - array[j], 1)\n",
    "\n",
    "# Hiển thị ma trận dist1\n",
    "display(dist1)\n",
    "\n",
    "# Khởi tạo ma trận dist2 để lưu trữ khoảng cách Euclidean (P = 2) giữa mỗi cặp điểm trong mảng array\n",
    "dist2 = np.zeros((50, 50))\n",
    "\n",
    "# Tính khoảng cách Euclidean giữa mỗi cặp điểm trong mảng array và lưu vào ma trận dist2\n",
    "for i in range(50):\n",
    "    for j in range(50):\n",
    "        dist2[i, j] = np.linalg.norm(array[i] - array[j])\n",
    "\n",
    "# Hiển thị ma trận dist2\n",
    "display(dist2)\n",
    "\n",
    "# Khởi tạo ma trận distInf để lưu trữ khoảng cách Chebyshev (P = ∞) giữa mỗi cặp điểm trong mảng array\n",
    "distInf = np.zeros((50, 50))\n",
    "\n",
    "# Tính khoảng cách Chebyshev giữa mỗi cặp điểm trong mảng array và lưu vào ma trận distInf\n",
    "for i in range(50):\n",
    "    for j in range(50):\n",
    "        distInf[i, j] = np.linalg.norm(array[i] - array[j], np.inf)\n",
    "\n",
    "# Hiển thị ma trận distInf\n",
    "display(distInf)\n",
    "\n",
    "from sklearn.metrics.pairwise import pairwise_distances  # Import hàm pairwise_distances từ sklearn\n",
    "\n",
    "# Chọn 100 dòng đầu tiên của array\n",
    "subset_array = data_equi_width[:100]\n",
    "\n",
    "# Tính ma trận độ đo tương đồng với phương pháp Euclidean\n",
    "distance_matrix = pairwise_distances(subset_array, metric='euclidean')\n",
    "\n",
    "# Đối với độ đo tần suất xuất hiện ngược, tính ma trận tương đồng bằng cách lấy nghịch đảo của ma trận số lần xuất hiện\n",
    "inverse_frequency_matrix = 1 / (1 + subset_array)\n",
    "\n",
    "# Tính ma trận tương đồng với phương pháp Euclidean\n",
    "similarity_matrix = pairwise_distances(inverse_frequency_matrix, metric='euclidean')\n",
    "\n",
    "# Lấy chỉ mục của các láng giềng gần nhất cho mỗi dòng\n",
    "nearest_neighbors_index = similarity_matrix.argsort(axis=1)\n",
    "\n",
    "# In ra chỉ mục của các láng giềng gần nhất cho 100 dòng đầu tiên\n",
    "print(nearest_neighbors_index)\n",
    "```"
   ]
  },
  {
   "cell_type": "markdown",
   "metadata": {},
   "source": [
    "### Đoạn code trên thực hiện các bước sau:\n",
    "\n",
    "- Tạo ma trận dist1 để lưu trữ khoảng cách Manhattan (P = 1) giữa mỗi cặp điểm trong mảng array.\n",
    "- Tạo ma trận dist2 để lưu trữ khoảng cách Euclidean (P = 2) giữa mỗi cặp điểm trong mảng array.\n",
    "- Tạo ma trận distInf để lưu trữ khoảng cách Chebyshev (P = ∞) giữa mỗi cặp điểm trong mảng array.\n",
    "- Sử dụng thư viện scikit-learn để tính ma trận tương đồng giữa các điểm dữ liệu trong data_equi_width với phương pháp Euclidean.\n",
    "- Sử dụng ma trận số lần xuất hiện của từng phần tử trong data_equi_width để tính ma trận tương đồng ngược.\n",
    "- Tính ma trận tương đồng giữa các điểm dữ liệu trong inverse_frequency_matrix với phương pháp Euclidean.\n",
    "- Sắp xếp chỉ mục của các láng giềng gần nhất cho mỗi dòng trong ma trận tương đồng.\n",
    "- In ra chỉ mục của các láng giềng gần nhất cho 100 dòng đầu tiên."
   ]
  }
 ],
 "metadata": {
  "kernelspec": {
   "display_name": "Python 3",
   "language": "python",
   "name": "python3"
  },
  "language_info": {
   "codemirror_mode": {
    "name": "ipython",
    "version": 3
   },
   "file_extension": ".py",
   "mimetype": "text/x-python",
   "name": "python",
   "nbconvert_exporter": "python",
   "pygments_lexer": "ipython3",
   "version": "3.11.0"
  }
 },
 "nbformat": 4,
 "nbformat_minor": 2
}
