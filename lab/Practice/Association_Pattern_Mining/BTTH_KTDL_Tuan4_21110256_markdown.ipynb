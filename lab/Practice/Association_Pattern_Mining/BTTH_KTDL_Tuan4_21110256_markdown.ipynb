{
 "cells": [
  {
   "cell_type": "markdown",
   "metadata": {},
   "source": [
    "# <center> Bài tập Thực hành môn Khai phá Dữ liệu </center>"
   ]
  },
  {
   "cell_type": "markdown",
   "metadata": {},
   "source": [
    "### **Họ và tên:** Huỳnh Nguyễn Thế Dân\n",
    "### **MSSV:** 21110256\n",
    "### **Lớp:** 21TTH1"
   ]
  },
  {
   "cell_type": "markdown",
   "metadata": {},
   "source": [
    "## 1. Cài đặt lại hàm TransactionEncoder"
   ]
  },
  {
   "cell_type": "markdown",
   "metadata": {},
   "source": [
    "### **<center> Định nghĩa lớp MyTransactionEncoder </center>**"
   ]
  },
  {
   "cell_type": "markdown",
   "metadata": {},
   "source": [
    "```python\n",
    "class MyTransactionEncoder:\n",
    "    def __init__(self):\n",
    "        self.unique_items = set()  # Khởi tạo một set để lưu trữ các mục độc nhất gặp trong các giao dịch\n",
    "        self.column_names = []  # Khởi tạo danh sách rỗng để lưu trữ tên cột\n",
    "\n",
    "    def fit(self, transactions):\n",
    "        for transaction in transactions:\n",
    "            for item in transaction:\n",
    "                self.unique_items.add(item)  # Thêm mỗi mục trong giao dịch vào set các mục độc nhất\n",
    "        self.unique_items = sorted(self.unique_items)  # Sắp xếp các mục độc nhất\n",
    "        self.column_names = self.unique_items  # Lưu tên cột dưới dạng các mặt hàng được sắp xếp\n",
    "        return self\n",
    "        \n",
    "    def transform(self, transactions):\n",
    "        item_index = {item: idx for idx, item in enumerate(self.unique_items)}  # Tạo bảng tra cứu để nhanh chóng tìm chỉ số của mỗi mục\n",
    "        transaction_matrix = []  # Khởi tạo danh sách rỗng để lưu trữ ma trận của các giao dịch\n",
    "        for transaction in transactions:\n",
    "            row = [False] * len(self.unique_items)  # Khởi tạo một hàng với giá trị mặc định là False\n",
    "            for item in transaction:\n",
    "                if item in item_index:  # Kiểm tra nếu mục có trong giao dịch\n",
    "                    row[item_index[item]] = True  # Đánh dấu chỉ số tương ứng là True\n",
    "            transaction_matrix.append(row)  # Thêm hàng vào ma trận\n",
    "        return transaction_matrix\n",
    "        \n",
    "    def fit_transform(self, transactions):\n",
    "        self.fit(transactions)  # Áp dụng phương thức fit để xác định các mục độc nhất\n",
    "        return self.transform(transactions)  # Biến đổi danh sách các giao dịch thành ma trận\n",
    "        \n",
    "    def get_feature_names(self):\n",
    "        \"\"\" Trả về danh sách các tên cột, tương ứng với các mặt hàng duy nhất \"\"\"\n",
    "        return self.column_names\n"
   ]
  },
  {
   "cell_type": "markdown",
   "metadata": {},
   "source": [
    "### **<center> Tóm tắt thuật toán:</center>**\n",
    "Lớp **MyTransactionEncoder** được thiết kế để biến đổi các giao dịch, mỗi giao dịch là một danh sách các mục, thành một ma trận nhị phân. Thuật toán này bao gồm:\n",
    "\n",
    "1. **Khởi tạo**: Khởi tạo một set và một danh sách để lưu các mục duy nhất và tên cột.\n",
    "2. **Phương thức fit**: Duyệt qua mỗi giao dịch để xác định tất cả các mục duy nhất có trong các giao dịch, sau đó sắp xếp chúng để lưu vào danh sách tên cột.\n",
    "3. **Phương thức transform**: Dựa trên các mục được xác định từ fit, tạo một ma trận nhị phân, mỗi hàng tương ứng với một giao dịch và mỗi cột tương ứng với sự hiện diện của một mục trong giao dịch đó.\n",
    "4. **Phương thức fit_transform**: Kết hợp cả hai bước fit và transform để trực tiếp chuyển đổi các giao dịch nhập vào thành ma trận nhị phân.\n",
    "5. **Phương thức get_feature_names**: Trả về danh sách tên các cột, giúp hiểu rõ mỗi cột trong ma trận biểu diễn cho mục nào."
   ]
  },
  {
   "cell_type": "markdown",
   "metadata": {},
   "source": [
    "----------------------------------------------------------------"
   ]
  },
  {
   "cell_type": "markdown",
   "metadata": {},
   "source": [
    "## 2. Cài đặt lại thuật toán Apriori"
   ]
  },
  {
   "cell_type": "markdown",
   "metadata": {},
   "source": [
    "### **<center> Định nghĩa hàm MyApriori </center>**"
   ]
  },
  {
   "cell_type": "markdown",
   "metadata": {},
   "source": [
    "```python\n",
    "def MyApriori(transactions, min_support):\n",
    "    from itertools import combinations\n",
    "    \n",
    "    # Hàm lấy tất cả các mục duy nhất từ các giao dịch\n",
    "    def items_in_transactions(transactions):\n",
    "        items = set()\n",
    "        for transaction in transactions:\n",
    "            items.update(transaction)\n",
    "        return items\n",
    "    \n",
    "    # Hàm tạo ra các tập ứng viên k-item từ các tập thường xuyên (k-1)-item\n",
    "    def generate_candidate_sets(frequent_sets, k):\n",
    "        return set([\n",
    "            frozenset(set1 | set2)\n",
    "            for set1 in frequent_sets\n",
    "            for set2 in frequent_sets\n",
    "            if len(set1 | set2) == k\n",
    "        ])\n",
    "    \n",
    "    # Hàm tính tỷ lệ hỗ trợ cho một tập ứng viên cụ thể\n",
    "    def calculate_support(candidate_set, transactions):\n",
    "        return sum(1 for transaction in transactions if candidate_set.issubset(transaction)) / len(transactions)\n",
    "    \n",
    "    # Lấy tất cả các mục từ các giao dịch\n",
    "    items = items_in_transactions(transactions)\n",
    "    # Khởi tạo các tập ứng viên 1-item\n",
    "    candidate_1_item_sets = [{item} for item in items]\n",
    "    frequent_sets = []\n",
    "    support_sets = []\n",
    "    \n",
    "    # Xác định các tập thường xuyên 1-item\n",
    "    for candidate in candidate_1_item_sets:\n",
    "        support = calculate_support(candidate, transactions)\n",
    "        if support >= min_support:\n",
    "            frequent_sets.append(frozenset(candidate))\n",
    "            support_sets.append(support)\n",
    "    \n",
    "    # Khởi tạo k = 2\n",
    "    k = 2\n",
    "    while True:\n",
    "        # Tạo các tập ứng viên k-item\n",
    "        candidate_k_item_sets = generate_candidate_sets(frequent_sets, k)\n",
    "        current_frequent_sets = []\n",
    "        current_support_sets = []\n",
    "        for candidate_set in candidate_k_item_sets:\n",
    "            support = calculate_support(candidate_set, transactions)\n",
    "            if support >= min_support:\n",
    "                current_frequent_sets.append(candidate_set)\n",
    "                current_support_sets.append(support)\n",
    "        \n",
    "        # Dừng nếu không có thêm tập ứng viên thường xuyên\n",
    "        if not current_frequent_sets:\n",
    "            break\n",
    "        \n",
    "        # Cập nhật tập thường xuyên và tăng k lên 1\n",
    "        frequent_sets.extend(current_frequent_sets)\n",
    "        support_sets.extend(current_support_sets)\n",
    "        k += 1\n",
    "    \n",
    "    # Trả về tập thường xuyên và tỷ lệ hỗ trợ\n",
    "    return frequent_sets, support_sets\n"
   ]
  },
  {
   "cell_type": "markdown",
   "metadata": {},
   "source": [
    "### **<center>Tóm tắt thuật toán Apriori trong hàm MyApriori:</center>**\n",
    "1. **Thu thập các mục độc nhất**: Hàm đầu tiên (items_in_transactions) đi qua mọi giao dịch để lấy ra tất cả các mục độc nhất.\n",
    "2. **Khởi tạo các tập ứng viên**: Bắt đầu từ các tập 1-item, xác định những tập nào có tỷ lệ hỗ trợ đủ lớn để trở thành các tập thường xuyên.\n",
    "3. **Lặp qua các kích thước tập hợp**: Tăng dần kích thước của tập ứng viên và lặp lại việc tạo tập ứng viên mới và tính toán hỗ trợ cho chúng.\n",
    "4. **Dừng lại**: Quá trình dừng lại khi không còn tạo được tập ứng viên mới nào vượt qua ngưỡng hỗ trợ.\n",
    "5. **Kết quả**: Trả về các tập thường xuyên và tỷ lệ hỗ trợ tương ứng của chúng, cho phép khám phá các mẫu và quy tắc liên kết trong dữ liệu."
   ]
  },
  {
   "cell_type": "markdown",
   "metadata": {},
   "source": [
    "--------------------------------------------------------"
   ]
  },
  {
   "cell_type": "markdown",
   "metadata": {},
   "source": [
    "**<center> End. </center>**"
   ]
  }
 ],
 "metadata": {
  "kernelspec": {
   "display_name": "Python 3",
   "language": "python",
   "name": "python3"
  },
  "language_info": {
   "codemirror_mode": {
    "name": "ipython",
    "version": 3
   },
   "file_extension": ".py",
   "mimetype": "text/x-python",
   "name": "python",
   "nbconvert_exporter": "python",
   "pygments_lexer": "ipython3",
   "version": "3.11.0"
  }
 },
 "nbformat": 4,
 "nbformat_minor": 2
}
