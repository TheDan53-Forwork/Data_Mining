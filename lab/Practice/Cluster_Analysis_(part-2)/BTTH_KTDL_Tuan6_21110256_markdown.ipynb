{
 "cells": [
  {
   "cell_type": "markdown",
   "metadata": {},
   "source": [
    "# <center> Bài tập Thực hành môn Khai phá Dữ liệu </center>"
   ]
  },
  {
   "cell_type": "markdown",
   "metadata": {},
   "source": [
    "### **Họ và tên:** Huỳnh Nguyễn Thế Dân\n",
    "### **MSSV:** 21110256\n",
    "### **Lớp:** 21TTH1"
   ]
  },
  {
   "cell_type": "markdown",
   "metadata": {},
   "source": [
    "##  Thuật toán hierarchical sử dụng phương pháp hợp nhất Bottom-up với single-linkage, complete-linkage và average-linkage"
   ]
  },
  {
   "cell_type": "markdown",
   "metadata": {},
   "source": [
    "### **<center> Định nghĩa hàm euclidean_distances </center>**"
   ]
  },
  {
   "cell_type": "markdown",
   "metadata": {},
   "source": [
    "```python\n",
    "def euclidean_distances(a, b):\n",
    "    # Hàm này tính khoảng cách Euclid giữa hai điểm a và b.\n",
    "    return (np.sqrt(np.sum(np.square(a - b))))\n",
    "    # Trả về giá trị của khoảng cách Euclid giữa hai điểm a và b."
   ]
  },
  {
   "cell_type": "markdown",
   "metadata": {},
   "source": [
    "#### **<center> Tóm tắt thuật toán:</center>**\n",
    "- a - b: Tính hiệu của hai điểm a và b, kết quả là một mảng các hiệu của từng phần tử tương ứng trong a và b.\n",
    "- np.square(a - b): Bình phương từng phần tử trong mảng kết quả của a - b.\n",
    "- np.sum(np.square(a - b)): Tính tổng các giá trị bình phương đã tính ở bước trước.\n",
    "- np.sqrt(np.sum(np.square(a - b))): Lấy căn bậc hai của tổng đã tính, kết quả là khoảng cách Euclid giữa hai điểm a và b.\n",
    "- Trả về giá trị khoảng cách Euclid giữa hai điểm a và b.\n",
    "\n",
    "Hàm euclidean_distances này dùng để tính khoảng cách Euclidean giữa hai điểm trong không gian n-chiều."
   ]
  },
  {
   "cell_type": "markdown",
   "metadata": {},
   "source": [
    "----------------------------------------------------------------"
   ]
  },
  {
   "cell_type": "markdown",
   "metadata": {},
   "source": [
    "### **<center> Định nghĩa hàm distEuclidean_matrix </center>**"
   ]
  },
  {
   "cell_type": "markdown",
   "metadata": {},
   "source": [
    "```python\n",
    "def distEuclidean_matrix(data):\n",
    "    # Hàm này tính ma trận khoảng cách Euclid giữa các điểm trong tập dữ liệu data.\n",
    "\n",
    "    # Tạo một ma trận vuông với kích thước là số lượng điểm trong data\n",
    "    distEuclidean = np.zeros(shape=[data.shape[0], data.shape[0]])\n",
    "\n",
    "    # Vòng lặp lồng nhau để tính khoảng cách giữa từng cặp điểm\n",
    "    for i in range(distEuclidean.shape[0]):\n",
    "        for j in range(distEuclidean.shape[1]):\n",
    "            # Tính khoảng cách Euclid giữa điểm thứ i và điểm thứ j\n",
    "            distEuclidean[i, j] = euclidean_distances(data[i], data[j])\n",
    "\n",
    "    # Trả về ma trận khoảng cách Euclid\n",
    "    return distEuclidean"
   ]
  },
  {
   "cell_type": "markdown",
   "metadata": {},
   "source": [
    "#### **<center> Tóm tắt thuật toán:</center>**\n",
    "\n",
    "- Định nghĩa hàm distEuclidean_matrix với tham số đầu vào là data, một mảng numpy chứa các điểm dữ liệu.\n",
    "- Tạo một ma trận vuông distEuclidean với kích thước [số lượng điểm trong data, số lượng điểm trong data], ban đầu chứa toàn giá trị 0. Ma trận này sẽ lưu trữ khoảng cách Euclid giữa từng cặp điểm.\n",
    "- Hai vòng lặp lồng nhau để duyệt qua từng cặp điểm (i, j) trong data.\n",
    "- Trong mỗi vòng lặp, tính khoảng cách Euclid giữa điểm data[i] và data[j] bằng cách sử dụng hàm euclidean_distances, và gán giá trị này vào ô tương ứng trong ma trận distEuclidean.\n",
    "- Trả về ma trận distEuclidean chứa các khoảng cách Euclid giữa từng cặp điểm trong data.\n",
    "\n",
    "Hàm distEuclidean_matrix này tạo ra một ma trận khoảng cách Euclidean."
   ]
  },
  {
   "cell_type": "markdown",
   "metadata": {},
   "source": [
    "------- "
   ]
  },
  {
   "cell_type": "markdown",
   "metadata": {},
   "source": [
    "### **<center> Định nghĩa hàm hierachical </center>**"
   ]
  },
  {
   "cell_type": "markdown",
   "metadata": {},
   "source": [
    "```python\n",
    "def hierachical(data, threshold, linkage='single', metric='euclidean'):\n",
    "    # Chuyển đổi dữ liệu đầu vào thành một mảng numpy\n",
    "    array = np.array(data)\n",
    "    \n",
    "    if metric == 'euclidean':\n",
    "        # Tính ma trận khoảng cách Euclid giữa các điểm dữ liệu\n",
    "        distEuclidean = distEuclidean_matrix(array)\n",
    "\n",
    "    # Điền các giá trị khoảng cách từ một điểm đến chính nó bằng giá trị vô cực (inf)\n",
    "    np.fill_diagonal(distEuclidean, np.inf)\n",
    "\n",
    "    # Khởi tạo giá trị nhỏ nhất trong ma trận khoảng cách\n",
    "    min_value = np.min(distEuclidean)\n",
    "\n",
    "    if linkage == 'single':\n",
    "        while min_value <= threshold and distEuclidean.shape[0] != 1:\n",
    "            # Tìm giá trị nhỏ nhất trong ma trận khoảng cách\n",
    "            min_value = np.min(distEuclidean)\n",
    "            # Tìm chỉ số của giá trị nhỏ nhất\n",
    "            min_index = np.unravel_index(np.argmin(distEuclidean), distEuclidean.shape)\n",
    "\n",
    "            new_col = []\n",
    "            for i in range(distEuclidean.shape[0]):\n",
    "                if i != min_index[0] and i != min_index[1]:\n",
    "                    # Tính khoảng cách nhỏ nhất (single linkage) giữa các cụm\n",
    "                    min_val = min(distEuclidean[i, min_index[0]], distEuclidean[i, min_index[1]])\n",
    "                    new_col.append(min_val)\n",
    "\n",
    "            # Xóa các hàng và cột liên quan đến các cụm đã hợp nhất\n",
    "            distEuclidean = np.delete(distEuclidean, min_index, axis=0)\n",
    "            distEuclidean = np.delete(distEuclidean, min_index, axis=1)\n",
    "\n",
    "            # Thêm hàng và cột mới vào ma trận khoảng cách\n",
    "            distEuclidean = np.insert(distEuclidean, min_index[0], np.array(new_col), axis=1)\n",
    "\n",
    "            new_row = np.array(new_col).reshape(1,-1)\n",
    "            new_row = np.insert(new_row, min_index[0], np.inf, axis=1)\n",
    "\n",
    "            distEuclidean = np.insert(distEuclidean, min_index[0], new_row, axis=0)\n",
    "\n",
    "            # Tìm giá trị nhỏ nhất trong ma trận khoảng cách mới\n",
    "            min_value = np.min(distEuclidean)\n",
    "\n",
    "    if linkage == 'complete':\n",
    "        while min_value <= threshold and distEuclidean.shape[0] != 1:\n",
    "            # Tìm giá trị nhỏ nhất trong ma trận khoảng cách\n",
    "            min_value = np.min(distEuclidean)\n",
    "            # Tìm chỉ số của giá trị nhỏ nhất\n",
    "            min_index = np.unravel_index(np.argmin(distEuclidean), distEuclidean.shape)\n",
    "\n",
    "            new_col = []\n",
    "            for i in range(distEuclidean.shape[0]):\n",
    "                if i != min_index[0] and i != min_index[1]:\n",
    "                    # Tính khoảng cách lớn nhất (complete linkage) giữa các cụm\n",
    "                    max_val = max(distEuclidean[i, min_index[0]], distEuclidean[i, min_index[1]])\n",
    "                    new_col.append(max_val)\n",
    "\n",
    "            # Xóa các hàng và cột liên quan đến các cụm đã hợp nhất\n",
    "            distEuclidean = np.delete(distEuclidean, min_index, axis=0)\n",
    "            distEuclidean = np.delete(distEuclidean, min_index, axis=1)\n",
    "\n",
    "            # Thêm hàng và cột mới vào ma trận khoảng cách\n",
    "            distEuclidean = np.insert(distEuclidean, min_index[0], np.array(new_col), axis=1)\n",
    "\n",
    "            new_row = np.array(new_col).reshape(1,-1)\n",
    "            new_row = np.insert(new_row, min_index[0], np.inf, axis=1)\n",
    "\n",
    "            distEuclidean = np.insert(distEuclidean, min_index[0], new_row, axis=0)\n",
    "\n",
    "            # Tìm giá trị nhỏ nhất trong ma trận khoảng cách mới\n",
    "            min_value = np.min(distEuclidean)\n",
    "\n",
    "    if linkage == 'average':\n",
    "        # Khởi tạo ma trận check hệ số cần nhân lên để tính toán lại giá trị trung bình\n",
    "        check_average = np.eye(distEuclidean.shape[0])\n",
    "        \n",
    "        while min_value <= threshold and distEuclidean.shape[0] != 1:\n",
    "            # Tìm chỉ số của giá trị nhỏ nhất\n",
    "            min_index = np.unravel_index(np.argmin(distEuclidean), distEuclidean.shape)\n",
    "\n",
    "            new_col = []\n",
    "            for i in range(distEuclidean.shape[0]):\n",
    "                if i != min_index[0] and i != min_index[1]:\n",
    "                    # Tính khoảng cách trung bình (average linkage) giữa các cụm\n",
    "                    average_val = (distEuclidean[i, min_index[0]] * check_average[min_index[0], min_index[0]] +\n",
    "                                   distEuclidean[i, min_index[1]] * check_average[min_index[1], min_index[1]]) / \n",
    "                                  (check_average[min_index[0], min_index[0]] + check_average[min_index[1], min_index[1]])\n",
    "                    new_col.append(average_val)\n",
    "\n",
    "            # Xóa các hàng và cột liên quan đến các cụm đã hợp nhất\n",
    "            distEuclidean = np.delete(distEuclidean, min_index, axis=0)\n",
    "            distEuclidean = np.delete(distEuclidean, min_index, axis=1)\n",
    "\n",
    "            # Cập nhật ma trận check hệ số trung bình\n",
    "            check_average[min_index[0], min_index[0]] += check_average[min_index[1], min_index[1]]\n",
    "            check_average = np.delete(check_average, min_index[1], axis=0)\n",
    "            check_average = np.delete(check_average, min_index[1], axis=1)\n",
    "\n",
    "            # Thêm hàng và cột mới vào ma trận khoảng cách\n",
    "            distEuclidean = np.insert(distEuclidean, min_index[0], np.array(new_col), axis=1)\n",
    "\n",
    "            new_row = np.array(new_col).reshape(1,-1)\n",
    "            new_row = np.insert(new_row, min_index[0], np.inf, axis=1)\n",
    "\n",
    "            distEuclidean = np.insert(distEuclidean, min_index[0], new_row, axis=0)\n",
    "\n",
    "            # Tìm giá trị nhỏ nhất trong ma trận khoảng cách mới\n",
    "            min_value = np.min(distEuclidean)\n",
    "\n",
    "    # Trả về ma trận khoảng cách cuối cùng dưới dạng DataFrame của pandas\n",
    "    return pd.DataFrame(distEuclidean)\n"
   ]
  },
  {
   "cell_type": "markdown",
   "metadata": {},
   "source": [
    "#### **<center> Tóm tắt thuật toán:</center>**\n",
    "\n",
    "Hàm hierachical thực hiện phân cụm phân cấp (hierarchical clustering) dựa trên khoảng cách Euclid giữa các điểm dữ liệu, với ba phương pháp liên kết khác nhau (single, complete, và average).\n",
    "\n",
    "##### Quy trình chung:\n",
    "1. Chuyển đổi dữ liệu đầu vào thành mảng numpy.\n",
    "2. Tính toán ma trận khoảng cách Euclid nếu metric là euclidean.\n",
    "3. Điền giá trị vô cực (inf) vào đường chéo chính của ma trận khoảng cách.\n",
    "4. Tìm giá trị nhỏ nhất trong ma trận khoảng cách.\n",
    "5. Hợp nhất các cụm dựa trên phương pháp liên kết được chọn (single, complete, average).\n",
    "6. Lặp lại quá trình cho đến khi giá trị nhỏ nhất vượt quá ngưỡng hoặc chỉ còn lại một cụm.\n",
    "7. Trả về ma trận khoảng cách cuối cùng dưới dạng DataFrame của pandas.\n",
    "\n",
    "##### Dưới đây là tóm tắt ngắn gọn của hàm với ba trường hợp liên kết:\n",
    "\n",
    "1. Single Linkage:\n",
    "- Mô tả: Hợp nhất các cụm dựa trên khoảng cách nhỏ nhất giữa các điểm của hai cụm.\n",
    "- Quy trình:\n",
    "    - Tính toán ma trận khoảng cách Euclid.\n",
    "    - Điền giá trị vô cực (inf) vào đường chéo chính của ma trận khoảng cách.\n",
    "    - Lặp lại quá trình tìm giá trị nhỏ nhất và hợp nhất các cụm cho đến khi giá trị nhỏ nhất vượt quá ngưỡng hoặc chỉ còn lại một cụm.\n",
    "\n",
    "2. Complete Linkage:\n",
    "- Mô tả: Hợp nhất các cụm dựa trên khoảng cách lớn nhất giữa các điểm của hai cụm.\n",
    "- Quy trình:\n",
    "    - Tính toán ma trận khoảng cách Euclid.\n",
    "    - Điền giá trị vô cực (inf) vào đường chéo chính của ma trận khoảng cách.\n",
    "    - Lặp lại quá trình tìm giá trị nhỏ nhất và hợp nhất các cụm cho đến khi giá trị nhỏ nhất vượt quá ngưỡng hoặc chỉ còn lại một cụm.\n",
    "\n",
    "3. Average Linkage:\n",
    "- Mô tả: Hợp nhất các cụm dựa trên khoảng cách trung bình giữa các điểm của hai cụm.\n",
    "- Quy trình:\n",
    "    - Tính toán ma trận khoảng cách Euclid.\n",
    "    - Điền giá trị vô cực (inf) vào đường chéo chính của ma trận khoảng cách.\n",
    "    - Khởi tạo ma trận hệ số để tính toán giá trị trung bình.\n",
    "    - Lặp lại quá trình tìm giá trị nhỏ nhất và hợp nhất các cụm cho đến khi giá trị nhỏ nhất vượt quá ngưỡng hoặc chỉ còn lại một cụm."
   ]
  },
  {
   "cell_type": "markdown",
   "metadata": {},
   "source": [
    "----    "
   ]
  },
  {
   "cell_type": "markdown",
   "metadata": {},
   "source": [
    "**<center> Hết. </center>**"
   ]
  }
 ],
 "metadata": {
  "kernelspec": {
   "display_name": "Python 3",
   "language": "python",
   "name": "python3"
  },
  "language_info": {
   "codemirror_mode": {
    "name": "ipython",
    "version": 3
   },
   "file_extension": ".py",
   "mimetype": "text/x-python",
   "name": "python",
   "nbconvert_exporter": "python",
   "pygments_lexer": "ipython3",
   "version": "3.11.0"
  }
 },
 "nbformat": 4,
 "nbformat_minor": 2
}
