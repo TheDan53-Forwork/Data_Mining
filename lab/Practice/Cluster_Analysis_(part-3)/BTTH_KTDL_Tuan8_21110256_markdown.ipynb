{
 "cells": [
  {
   "cell_type": "markdown",
   "metadata": {},
   "source": [
    "# <center> Bài tập Thực hành môn Khai phá Dữ liệu </center>"
   ]
  },
  {
   "cell_type": "markdown",
   "metadata": {},
   "source": [
    "### **Họ và tên:** Huỳnh Nguyễn Thế Dân\n",
    "### **MSSV:** 21110256\n",
    "### **Lớp:** 21TTH1"
   ]
  },
  {
   "cell_type": "markdown",
   "metadata": {},
   "source": [
    "##  Thuật toán Mahalanobis k-means"
   ]
  },
  {
   "cell_type": "markdown",
   "metadata": {},
   "source": [
    "### **<center> Định nghĩa hàm calculate_mahalanobis_distance </center>**"
   ]
  },
  {
   "cell_type": "markdown",
   "metadata": {},
   "source": [
    "```python\n",
    "# Định nghĩa hàm\n",
    "def calculate_mahalanobis_distance(point, center, covariance_matrix):  \n",
    "    # Tính và trả về khoảng cách Mahalanobis\n",
    "    return mahalanobis(point, center, np.linalg.inv(covariance_matrix))  \n"
   ]
  },
  {
   "cell_type": "markdown",
   "metadata": {},
   "source": [
    "#### **<center> Tóm tắt thuật toán:</center>**\n",
    "- **Dòng 1**: Định nghĩa hàm calculate_mahalanobis_distance với các tham số là điểm dữ liệu, tâm cụm và ma trận hiệp phương sai.\n",
    "- **Dòng 2**: Sử dụng hàm mahalanobis từ scipy để tính khoảng cách Mahalanobis giữa điểm dữ liệu và tâm cụm với ma trận hiệp phương sai nghịch đảo, và trả về kết quả.\n",
    "\n",
    "**Phân tích hàm mahalanobis:**\n",
    "\n",
    "- mahalanobis(point, center, np.linalg.inv(covariance_matrix)):\n",
    "\n",
    "    - point: Là điểm dữ liệu cần tính khoảng cách, biểu diễn dưới dạng vector.\n",
    "    - center: Là tâm cụm, biểu diễn dưới dạng vector.\n",
    "    - np.linalg.inv(covariance_matrix): Là nghịch đảo của ma trận hiệp phương sai Σ.\n",
    "\n",
    "- Hàm mahalanobis sử dụng các tham số này để thực hiện phép tính:\n",
    "\n",
    "    - Tính hiệu số giữa điểm dữ liệu và tâm cụm: x−μ.\n",
    "    - Tính nghịch đảo của ma trận hiệp phương sai Σ −1 .\n",
    "    - Nhân hiệu số trên với nghịch đảo của ma trận hiệp phương sai: (𝑥−𝜇)𝑇Σ^−1.\n",
    "    - Nhân tiếp với hiệu số ban đầu và lấy căn bậc hai để có được khoảng cách Mahalanobis.\n",
    "\n",
    "Kết quả là một giá trị khoảng cách Mahalanobis giữa điểm dữ liệu và tâm cụm, thể hiện mức độ tương tự giữa điểm dữ liệu và cụm trong không gian đa chiều có tính đến sự phân tán của dữ liệu.   "
   ]
  },
  {
   "cell_type": "markdown",
   "metadata": {},
   "source": [
    "------- "
   ]
  },
  {
   "cell_type": "markdown",
   "metadata": {},
   "source": [
    "### **<center> Định nghĩa hàm mahalanobis_kmeans </center>**"
   ]
  },
  {
   "cell_type": "markdown",
   "metadata": {},
   "source": [
    "```python\n",
    "def mahalanobis_kmeans(X, k, max_iters=100, tol=1e-4):\n",
    "    n_samples, n_features = X.shape  # Lấy số lượng mẫu và số lượng đặc trưng từ dữ liệu X\n",
    "    \n",
    "    np.random.seed(10)  # Cố định seed để kết quả nhất quán\n",
    "    centers = X[np.random.choice(n_samples, k, replace=False)]  # Chọn ngẫu nhiên k tâm cụm ban đầu\n",
    "    \n",
    "    covariance_matrices = [np.cov(X.T) for _ in range(k)]  # Tạo ma trận hiệp phương sai ban đầu cho mỗi cụm\n",
    "    \n",
    "    labels = np.zeros(n_samples)  # Khởi tạo nhãn cho mỗi mẫu dữ liệu\n",
    "    for it in range(max_iters):\n",
    "        new_centers = np.zeros((k, n_features))  # Khởi tạo các tâm cụm mới\n",
    "        counts = np.zeros(k)  # Khởi tạo bộ đếm số lượng điểm trong mỗi cụm\n",
    "        \n",
    "        for i, x in enumerate(X):\n",
    "            distances = [calculate_mahalanobis_distance(x, centers[j], covariance_matrices[j]) for j in range(k)]  # Tính khoảng cách Mahalanobis\n",
    "            labels[i] = np.argmin(distances)  # Gán nhãn cho cụm gần nhất\n",
    "            new_centers[int(labels[i])] += x  # Cập nhật tâm cụm mới\n",
    "            counts[int(labels[i])] += 1\n",
    "        \n",
    "        for j in range(k):\n",
    "            if counts[j] != 0:\n",
    "                new_centers[j] /= counts[j]  # Tính trung bình các điểm dữ liệu trong cụm\n",
    "            covariance_matrices[j] = np.cov(X[labels == j].T)  # Tính ma trận hiệp phương sai mới\n",
    "        \n",
    "        if np.all(np.linalg.norm(new_centers - centers, axis=1) < tol):  # Kiểm tra sự hội tụ\n",
    "            break\n",
    "        centers = new_centers  # Cập nhật tâm cụm\n",
    "    \n",
    "    return centers, labels  # Trả về tâm cụm và nhãn của mỗi điểm dữ liệu\n"
   ]
  },
  {
   "cell_type": "markdown",
   "metadata": {},
   "source": [
    "#### **<center> Tóm tắt thuật toán:</center>**\n",
    "\n",
    "1. **Khởi tạo:**\n",
    "   - Lấy số lượng mẫu và số lượng đặc trưng từ dữ liệu \\(X\\).\n",
    "   - Cố định seed cho bộ sinh số ngẫu nhiên để kết quả nhất quán.\n",
    "   - Chọn ngẫu nhiên \\(k\\) tâm cụm ban đầu từ dữ liệu \\(X\\).\n",
    "   - Tạo ma trận hiệp phương sai ban đầu cho mỗi cụm.\n",
    "\n",
    "2. **Gán cụm và Cập nhật tâm cụm:**\n",
    "   - Khởi tạo các nhãn và các biến lưu trữ tâm cụm mới và bộ đếm.\n",
    "   - Với mỗi điểm dữ liệu \\(x\\):\n",
    "     - Tính khoảng cách Mahalanobis từ \\(x\\) đến mỗi tâm cụm.\n",
    "     - Gán nhãn cho cụm có khoảng cách Mahalanobis nhỏ nhất.\n",
    "     - Cập nhật tâm cụm mới và tăng bộ đếm.\n",
    "   - Tính lại tâm cụm bằng cách lấy trung bình các điểm dữ liệu trong cụm.\n",
    "   - Tính ma trận hiệp phương sai mới cho mỗi cụm.\n",
    "\n",
    "3. **Kiểm tra hội tụ:**\n",
    "   - Kiểm tra xem các tâm cụm có thay đổi ít hơn ngưỡng \\(tol\\) hay không.\n",
    "   - Nếu hội tụ, dừng lại; nếu không, cập nhật tâm cụm và lặp lại.\n",
    "\n",
    "4. **Trả về kết quả:**\n",
    "   - Trả về tâm cụm và nhãn của mỗi điểm dữ liệu."
   ]
  },
  {
   "cell_type": "markdown",
   "metadata": {},
   "source": [
    "----    "
   ]
  },
  {
   "cell_type": "markdown",
   "metadata": {},
   "source": [
    "**<center> Hết. </center>**"
   ]
  }
 ],
 "metadata": {
  "kernelspec": {
   "display_name": "Python 3",
   "language": "python",
   "name": "python3"
  },
  "language_info": {
   "codemirror_mode": {
    "name": "ipython",
    "version": 3
   },
   "file_extension": ".py",
   "mimetype": "text/x-python",
   "name": "python",
   "nbconvert_exporter": "python",
   "pygments_lexer": "ipython3",
   "version": "3.11.0"
  }
 },
 "nbformat": 4,
 "nbformat_minor": 2
}
