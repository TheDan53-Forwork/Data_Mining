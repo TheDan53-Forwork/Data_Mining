{
 "cells": [
  {
   "cell_type": "markdown",
   "metadata": {},
   "source": [
    "# <center> Bài tập Thực hành môn Khai phá Dữ liệu </center>"
   ]
  },
  {
   "cell_type": "markdown",
   "metadata": {},
   "source": [
    "### **Họ và tên:** Huỳnh Nguyễn Thế Dân\n",
    "### **MSSV:** 21110256\n",
    "### **Lớp:** 21TTH1"
   ]
  },
  {
   "cell_type": "markdown",
   "metadata": {},
   "source": [
    "## 1. Viết chương trình tính khoảng cách Edit"
   ]
  },
  {
   "cell_type": "markdown",
   "metadata": {},
   "source": [
    "**<center> Định nghĩa hàm tính độ đo chỉnh sửa tối thiểu </center>**"
   ]
  },
  {
   "cell_type": "markdown",
   "metadata": {},
   "source": [
    "```python\n",
    "# Định nghĩa hàm tính độ đo chỉnh sửa tối thiểu\n",
    "def Find_Mininum_Edit_Distance(source_string, target_string):\n",
    "\n",
    "    # Tạo ma trận chỉnh sửa có kích thước (len(target_string) + 1) x (len(source_string) + 1)\n",
    "    Edit = [[0] * (len(source_string) + 1) for i in range(len(target_string) + 1)]\n",
    "\n",
    "    # Khởi tạo giá trị ban đầu của ma trận\n",
    "    for i in range(1, len(target_string) + 1):\n",
    "        Edit[i][0] = Edit[i-1][0] + 1\n",
    "    for i in range(1, len(source_string) + 1):\n",
    "        Edit[0][i] = Edit[0][i-1] + 1\n",
    "\n",
    "    # Danh sách các thao tác được thực hiện\n",
    "    operations_performed = []\n",
    "\n",
    "    # Xây dựng ma trận chỉnh sửa theo thuật toán\n",
    "    for i in range(1, len(target_string) + 1):\n",
    "        for j in range(1, len(source_string) + 1):\n",
    "            if source_string[j-1] == target_string[i-1]:\n",
    "                Edit[i][j] = Edit[i-1][j-1]\n",
    "            else:\n",
    "                Edit[i][j] = min(Edit[i-1][j] + 1, Edit[i][j-1] + 1, Edit[i-1][j-1] + 2)\n",
    "    \n",
    "    # Khởi tạo biến để backtrack\n",
    "    i = len(target_string)\n",
    "    j = len(source_string)\n",
    "\n",
    "    # Backtrack để ghi lại các thao tác thực hiện\n",
    "    while (i != 0 and j != 0):\n",
    "        if target_string[i-1] == source_string[j-1]:\n",
    "            i -= 1\n",
    "            j -= 1\n",
    "        else:\n",
    "            if Edit[i][j] == Edit[i-1][j-1] + 2:\n",
    "                operations_performed.append((\"SUBSTITURE\", source_string[j-1], target_string[i-1]))\n",
    "                i -= 1\n",
    "                j -= 1\n",
    "            elif Edit[i][j] == Edit[i-1][j] + 1:\n",
    "                operations_performed.append((\"INSERT\", target_string[i-1]))\n",
    "                i -= 1\n",
    "            else:\n",
    "                operations_performed.append((\"DELETE\", source_string[j-1]))\n",
    "                j -= 1\n",
    "    while (j != 0):\n",
    "        operations_performed.append((\"DELETE\", source_string[j-1]))\n",
    "        j -= 1\n",
    "    while (i != 0):\n",
    "        operations_performed.append((\"DELETE\", target_string[i-1]))\n",
    "        i -= 1\n",
    "\n",
    "    # Đảo ngược danh sách thao tác vì đã backtrack\n",
    "    operations_performed.reverse()\n",
    "    \n",
    "    # Trả về ma trận chỉnh sửa, khoảng cách tối thiểu và danh sách các thao tác thực hiện\n",
    "    return Edit, Edit[-1][-1], operations_performed\n",
    "```"
   ]
  },
  {
   "cell_type": "markdown",
   "metadata": {},
   "source": [
    "**<center> Chương trình chính </center>**"
   ]
  },
  {
   "cell_type": "markdown",
   "metadata": {},
   "source": [
    "``` python\n",
    "import pandas as pd  # Import thư viện pandas\n",
    "import numpy as np   # Import thư viện numpy\n",
    "\n",
    "# Nhập chuỗi nguồn và chuỗi đích\n",
    "print(\"Nhập chuỗi nguồn: \")\n",
    "source_string = input().strip()\n",
    "\n",
    "print(\"Nhập chuỗi đích: \")\n",
    "target_string = input().strip()\n",
    "\n",
    "# Tìm độ đo chỉnh sửa tối thiểu và các thao tác thực hiện\n",
    "Edit_matrix, distance, operations_performed = Find_Mininum_Edit_Distance(source_string, target_string)\n",
    "\n",
    "# Hiển thị ma trận chỉnh sửa\n",
    "display(pd.DataFrame(Edit_matrix))\n",
    "\n",
    "# Đếm số lượng các thao tác\n",
    "insertions, deletions, substitutions = 0, 0, 0\n",
    "for i in operations_performed:\n",
    "    if i[0] == 'INSERT':\n",
    "        insertions += 1\n",
    "    elif i[0] == 'DELETE':\n",
    "        deletions += 1\n",
    "    else:\n",
    "        substitutions += 1\n",
    "\n",
    "# Hiển thị kết quả\n",
    "print(\"Độ đo chỉnh sửa tối thiểu: {}\".format(distance))\n",
    "print(\"Số lượng thêm vào: {}\".format(insertions))\n",
    "print(\"Số lượng xóa bỏ: {}\".format(deletions))\n",
    "print(\"Số lượng thay thế: {}\".format(substitutions))\n",
    "print(\"Tổng số thao tác: {}\".format(insertions + deletions + substitutions))\n",
    "\n",
    "print(\"Thao tác thực hiện: \")\n",
    "for i in range(len(operations_performed)):\n",
    "    if operations_performed[i][0] == \"INSERT\":\n",
    "        print(\"{}) {} : {}\".format(i+1, operations_performed[i][0], operations_performed[i][1]))\n",
    "    elif operations_performed[i][0] == \"DELETE\":\n",
    "        print(\"{}) {} : {}\".format(i+1, operations_performed[i][0], operations_performed[i][1]))\n",
    "    else:\n",
    "        print(\"{}) {} : {} - {}\".format(i+1, operations_performed[i][0], operations_performed[i][1], operations_performed[i][2]))\n",
    "```"
   ]
  },
  {
   "cell_type": "markdown",
   "metadata": {},
   "source": [
    "### Đoạn code trên thực hiện các công việc sau:\n",
    "\n",
    "- Định nghĩa hàm Find_Mininum_Edit_Distance để tính độ đo chỉnh sửa tối thiểu giữa hai chuỗi.\n",
    "- Tạo ma trận chỉnh sửa Edit với kích thước (len(target_string) + 1) x (len(source_string) + 1) và khởi tạo các giá trị ban đầu.\n",
    "- Xây dựng ma trận chỉnh sửa Edit dựa trên thuật toán của độ đo chỉnh sửa tối thiểu (Minimum Edit Distance).\n",
    "- Sử dụng backtracking để ghi lại các thao tác đã thực hiện để chuyển đổi từ chuỗi nguồn sang chuỗi đích.\n",
    "- Tính và hiển thị ma trận chỉnh sửa Edit.\n",
    "- Đếm số lượng các thao tác: thêm vào, xóa bỏ, thay thế.\n",
    "- Hiển thị kết quả: độ đo chỉnh sửa tối thiểu và số lượng các thao tác.\n",
    "- In ra danh sách các thao tác thực hiện để chuyển đổi từ chuỗi nguồn sang chuỗi đích."
   ]
  },
  {
   "cell_type": "markdown",
   "metadata": {},
   "source": [
    "## 2. Viết chương trình tính khoảng cách dãy con chung dài nhất"
   ]
  },
  {
   "cell_type": "markdown",
   "metadata": {},
   "source": [
    "**<center> Định nghĩa hàm tính khoảng cách dãy con chung dài nhất </center>**"
   ]
  },
  {
   "cell_type": "markdown",
   "metadata": {},
   "source": [
    "```python\n",
    "def Find_Longest_Common_Subsequense(compare_string_1, compare_string_2):\n",
    "\n",
    "    # Tạo ma trận LCSS có kích thước (len(compare_string_1) + 1) x (len(compare_string_2) + 1)\n",
    "    LCSS = [[0] * (len(compare_string_2) + 1) for i in range(len(compare_string_1) + 1)]\n",
    "\n",
    "    # Danh sách các thao tác được thực hiện\n",
    "    operations_performed = []\n",
    "\n",
    "    # Xây dựng ma trận LCSS theo thuật toán\n",
    "    for i in range(1, len(compare_string_1) + 1):\n",
    "        for j in range(1, len(compare_string_2) + 1):\n",
    "            if compare_string_2[j-1] == compare_string_1[i-1]:\n",
    "                LCSS[i][j] = LCSS[i-1][j-1] + 1\n",
    "            else:\n",
    "                LCSS[i][j] = max(LCSS[i-1][j], LCSS[i][j-1])\n",
    "    \n",
    "    # Khởi tạo biến để backtrack\n",
    "    i = len(compare_string_1)\n",
    "    j = len(compare_string_2)\n",
    "\n",
    "    # Backtrack để ghi lại các thao tác thực hiện\n",
    "    while (i != 0 and j != 0):\n",
    "        if compare_string_1[i-1] == compare_string_2[j-1]:\n",
    "            operations_performed.append((\"CROSS\", compare_string_2[j-1]))\n",
    "            i -= 1\n",
    "            j -= 1\n",
    "        else:\n",
    "            if LCSS[i][j] == LCSS[i-1][j]:\n",
    "                operations_performed.append((\"UP\", 'None'))\n",
    "                i -= 1\n",
    "            elif LCSS[i][j] == LCSS[i][j-1]:\n",
    "                operations_performed.append((\"LEFT\", 'None'))\n",
    "                j -= 1\n",
    "\n",
    "    # Nếu chúng ta đạt đến hàng trên cùng của ma trận\n",
    "    while (j != 0):\n",
    "        operations_performed.append((\"LEFT\", 'None'))\n",
    "        j -= 1\n",
    "    \n",
    "    # Nếu chúng ta đạt đến cột bên trái của ma trận\n",
    "    while (i != 0):\n",
    "        operations_performed.append((\"UP\", 'None'))\n",
    "        i -= 1\n",
    "\n",
    "    # Đảo ngược danh sách thao tác vì đã backtrack\n",
    "    operations_performed\n",
    "    return [LCSS, LCSS[len(compare_string_1)][len(compare_string_2)], operations_performed]"
   ]
  },
  {
   "cell_type": "markdown",
   "metadata": {},
   "source": [
    "**<center> Chương trình chính </center>**"
   ]
  },
  {
   "cell_type": "markdown",
   "metadata": {},
   "source": [
    "```python\n",
    "# Nhập chuỗi so sánh 1 và chuỗi so sánh 2\n",
    "print(\"Nhập chuỗi so sánh 1: \")\n",
    "compare_string_1 = input().strip()\n",
    "\n",
    "print(\"Nhập chuỗi so sánh 2: \")\n",
    "compare_string_2 = input().strip()\n",
    "\n",
    "# Tìm dãy con dài nhất chung và các thao tác thực hiện\n",
    "LCSS_matrix, distance, operations_performed = Find_Longest_Common_Subsequense(compare_string_1, compare_string_2)\n",
    "\n",
    "# Hiển thị ma trận LCSS\n",
    "display(pd.DataFrame(LCSS_matrix))\n",
    "\n",
    "# Hiển thị DataFrame chứa các thao tác thực hiện\n",
    "display(pd.DataFrame(operations_performed))\n",
    "\n",
    "# Đếm số lượng các thao tác\n",
    "lefts, ups, cosses = 0, 0, 0\n",
    "for i in operations_performed:\n",
    "    if i[0] == 'LEFT':\n",
    "        lefts += 1\n",
    "    elif i[0] == 'UP':\n",
    "        ups += 1\n",
    "    else:\n",
    "        cosses += 1\n",
    "\n",
    "# Hiển thị kết quả\n",
    "print(\"Độ đo chỉnh sửa tối thiểu: {}\".format(distance))\n",
    "print(\"Số lượng thao tác trái: {}\".format(lefts))\n",
    "print(\"Số lượng thao tác lên: {}\".format(ups))\n",
    "print(\"Số lượng thao tác chéo: {}\".format(cosses))\n",
    "print(\"Tổng số thao tác: {}\".format(lefts + ups + cosses))\n",
    "\n",
    "print(\"----------------------------------------------------------------\")\n",
    "\n",
    "# In ra danh sách các thao tác thực hiện\n",
    "print(\"Thao tác thực hiện: \")\n",
    "for i in range(len(operations_performed)):\n",
    "    if operations_performed[i][0] == \"LEFT\":\n",
    "        print(\"{}) {} : {}\".format(i+1, operations_performed[i][0], operations_performed[i][1]))\n",
    "    elif operations_performed[i][0] == \"DELETE\":\n",
    "        print(\"{}) {} : {}\".format(i+1, operations_performed[i][0], operations_performed[i][1]))\n",
    "    else:\n",
    "        print(\"{}) {} : {}\".format(i+1, operations_performed[i][0], operations_performed[i][1]))\n",
    "\n",
    "print(\"----------------------------------------------------------------\")\n",
    "\n",
    "# In ra dãy con dài nhất chung\n",
    "print(\"Dãy con dài nhất chung: \")\n",
    "for i in range(len(operations_performed)):\n",
    "    if operations_performed[i][0] == \"CROSS\":\n",
    "        print(\"{}\".format(operations_performed[i][1]), end='')"
   ]
  },
  {
   "cell_type": "markdown",
   "metadata": {},
   "source": [
    "### Đoạn code trên thực hiện các công việc sau:\n",
    "\n",
    "- Tạo ma trận LCSS (Longest Common Subsequence): Ma trận này có kích thước (len(compare_string_1) + 1) x (len(compare_string_2) + 1). Mỗi ô trong ma trận đại diện cho một phần của chuỗi kết quả, trong đó hàng đầu tiên và cột đầu tiên đều có giá trị 0.\n",
    "- Điền các giá trị vào ma trận LCSS: Sử dụng một thuật toán động để điền các giá trị vào ma trận này. Với mỗi ô trong ma trận, nếu ký tự tương ứng của chuỗi so sánh 1 bằng với ký tự của chuỗi so sánh 2, ta tăng giá trị ở ô đó lên 1 so với giá trị nằm ở đường chéo phía trên bên trái. Ngược lại, ta lấy giá trị lớn nhất từ ô phía trên hoặc ô bên trái.\n",
    "- Backtracking để ghi lại các thao tác thực hiện: Sau khi điền đầy ma trận, ta thực hiện backtracking để ghi lại các thao tác thực hiện. Trong quá trình này, ta đi từ ô cuối cùng của ma trận về ô đầu tiên, và quan sát các giá trị để xác định xem ta đã thực hiện thao tác nào để đạt được giá trị tại ô hiện tại.\n",
    "- Đếm số lượng các thao tác: Đếm số lượng các thao tác được thực hiện, bao gồm di chuyển sang trái, di chuyển lên, và di chuyển chéo.\n",
    "- Hiển thị kết quả: In ra ma trận LCSS, số lượng các thao tác, danh sách chi tiết các thao tác thực hiện, cũng như dãy con dài nhất chung giữa hai chuỗi."
   ]
  },
  {
   "cell_type": "markdown",
   "metadata": {},
   "source": [
    "## 3. Viết chương trình tính khoảng cách biến đổi thời gian động"
   ]
  },
  {
   "cell_type": "markdown",
   "metadata": {},
   "source": [
    "**<center> Định nghĩa hàm tính khoảng cách biến đổi thời gian động </center>**"
   ]
  },
  {
   "cell_type": "markdown",
   "metadata": {},
   "source": [
    "```python\n",
    "def Find_Dynamic_Time_Wraping(time_seriesA, time_seriesB):\n",
    "\n",
    "    # Tạo ma trận DTW_matrix với kích thước (len(time_seriesA) + 1) x (len(time_seriesB) + 1)\n",
    "    DTW_matrix = [[np.inf] * (len(time_seriesB) + 1) for i in range(len(time_seriesA) + 1)]\n",
    "    DTW_matrix[0][0] = 0\n",
    "    \n",
    "    # Danh sách ghi lại đường dẫn của quá trình thời gian\n",
    "    wraping_path = []\n",
    "\n",
    "    # Xây dựng ma trận theo thuật toán DTW\n",
    "    for i in range(1, len(time_seriesA) + 1):\n",
    "        for j in range(1, len(time_seriesB) + 1):\n",
    "            DTW_matrix[i][j] = abs(time_seriesA[i-1] - time_seriesB[j-1]) + min(DTW_matrix[i][j-1], DTW_matrix[i-1][j-1], DTW_matrix[i-1][j])\n",
    "    \n",
    "    # Khởi tạo cho việc backtracking\n",
    "    i = len(time_seriesA)\n",
    "    j = len(time_seriesB)\n",
    "\n",
    "    # Backtrack để ghi lại đường dẫn của quá trình thời gian\n",
    "    wraping_path.append(DTW_matrix[i][j])\n",
    "    while (i != 0 and j != 0):\n",
    "        if min(DTW_matrix[i][j-1], DTW_matrix[i-1][j-1], DTW_matrix[i-1][j]) == DTW_matrix[i][j-1]:\n",
    "            wraping_path.append(DTW_matrix[i][j-1])\n",
    "            j -= 1\n",
    "        elif min(DTW_matrix[i][j-1], DTW_matrix[i-1][j-1], DTW_matrix[i-1][j]) == DTW_matrix[i-1][j-1]:\n",
    "            wraping_path.append(DTW_matrix[i-1][j-1])\n",
    "            i -= 1\n",
    "            j -= 1\n",
    "        else:\n",
    "            wraping_path.append(DTW_matrix[i-1][j])\n",
    "            i -= 1\n",
    "\n",
    "    return [DTW_matrix, DTW_matrix[len(time_seriesA)][len(time_seriesB)], wraping_path[:-1]]"
   ]
  },
  {
   "cell_type": "markdown",
   "metadata": {},
   "source": [
    "**<center> Chương trình chính </center>**"
   ]
  },
  {
   "cell_type": "markdown",
   "metadata": {},
   "source": [
    "```python\n",
    "# Khởi tạo chuỗi thời gian A và B\n",
    "time_seriesA = np.array([1, 7, 4, 8, 2, 9, 6, 5, 2, 0])\n",
    "time_seriesB = np.array([1, 2, 8, 5, 5, 1, 9, 4, 6, 5])\n",
    "\n",
    "# Tính toán DTW giữa hai chuỗi thời gian\n",
    "DTW_matrix, distance, wraping_path = Find_Dynamic_Time_Wraping(time_seriesA, time_seriesB)\n",
    "\n",
    "# Hiển thị ma trận DTW\n",
    "print(\"Ma trận DTW:\")\n",
    "for row in DTW_matrix:\n",
    "    print(row)\n",
    "\n",
    "# In ra đường dẫn của quá trình thời gian\n",
    "print(\"\\nĐường dẫn của quá trình thời gian:\")\n",
    "for i in wraping_path:\n",
    "    print(i, end=', ')"
   ]
  },
  {
   "cell_type": "markdown",
   "metadata": {},
   "source": [
    "### Đoạn code trên thực hiện các công việc sau:\n",
    "\n",
    "- Tạo ma trận DTW_matrix: Tạo ma trận DTW_matrix có kích thước (len(time_seriesA) + 1) x (len(time_seriesB) + 1). Mỗi ô trong ma trận này đại diện cho một phần của quá trình thời gian tối thiểu, với mục tiêu là làm cho hai chuỗi thời gian gần nhất có thể. Các giá trị ban đầu được đặt là vô cực (inf) ngoại trừ ô ở góc trên bên trái (0) đại diện cho điểm xuất phát.\n",
    "- Tính toán giá trị của ma trận DTW: Sử dụng một vòng lặp kép để điền các giá trị vào ma trận DTW_matrix theo thuật toán Dynamic Time Warping (DTW). Cụ thể, giá trị tại mỗi ô (i, j) được tính bằng cách lấy giá trị tuyệt đối của sự khác biệt giữa các phần tử tương ứng của hai chuỗi thời gian, cộng với giá trị nhỏ nhất giữa các ô xung quanh (i, j).\n",
    "- Backtracking để ghi lại đường dẫn của quá trình thời gian: Sau khi điền đầy ma trận, ta thực hiện backtracking từ ô cuối cùng (len(time_seriesA), len(time_seriesB)) về ô (0, 0) để ghi lại đường dẫn của quá trình thời gian tối thiểu. Trong quá trình này, ta lưu giữ giá trị của mỗi ô mà ta đi qua.\n",
    "- Trả về kết quả: Trả về ma trận DTW, giá trị của quá trình thời gian tối thiểu và đường dẫn của quá trình thời gian."
   ]
  }
 ],
 "metadata": {
  "kernelspec": {
   "display_name": "Python 3",
   "language": "python",
   "name": "python3"
  },
  "language_info": {
   "codemirror_mode": {
    "name": "ipython",
    "version": 3
   },
   "file_extension": ".py",
   "mimetype": "text/x-python",
   "name": "python",
   "nbconvert_exporter": "python",
   "pygments_lexer": "ipython3",
   "version": "3.11.0"
  }
 },
 "nbformat": 4,
 "nbformat_minor": 2
}
