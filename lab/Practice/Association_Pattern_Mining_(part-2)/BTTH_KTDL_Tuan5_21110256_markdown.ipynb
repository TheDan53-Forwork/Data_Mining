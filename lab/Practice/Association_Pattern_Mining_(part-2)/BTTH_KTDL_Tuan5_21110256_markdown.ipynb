{
 "cells": [
  {
   "cell_type": "markdown",
   "metadata": {},
   "source": [
    "# <center> Bài tập Thực hành môn Khai phá Dữ liệu </center>"
   ]
  },
  {
   "cell_type": "markdown",
   "metadata": {},
   "source": [
    "### **Họ và tên:** Huỳnh Nguyễn Thế Dân\n",
    "### **MSSV:** 21110256\n",
    "### **Lớp:** 21TTH1"
   ]
  },
  {
   "cell_type": "markdown",
   "metadata": {},
   "source": [
    "## Cài đặt lại thuật toán Vertical Apriori"
   ]
  },
  {
   "cell_type": "markdown",
   "metadata": {},
   "source": [
    "### **<center> Định nghĩa hàm VerticalApriori </center>**"
   ]
  },
  {
   "cell_type": "markdown",
   "metadata": {},
   "source": [
    "```python\n",
    "from itertools import combinations\n",
    "\n",
    "def VerticalApriori(df_bin, min_support):\n",
    "    # Bước 1: Tạo dạng biểu diễn dọc của dữ liệu\n",
    "    itemsets = {}  # Khởi tạo từ điển để lưu trữ tập hợp các mục và giao dịch tương ứng\n",
    "    num_transactions = len(df_bin)  # Đếm tổng số giao dịch trong DataFrame\n",
    "    \n",
    "    # Duyệt qua mỗi cột trong DataFrame, mỗi cột đại diện cho một mục\n",
    "    for item in df_bin.columns:\n",
    "        # Tìm các giao dịch nơi mục xuất hiện và lưu vào một tập hợp\n",
    "        transactions = set(df_bin.index[df_bin[item] == 1].tolist())\n",
    "        # Lưu trữ mục như một frozenset và giao dịch tương ứng vào từ điển itemsets\n",
    "        itemsets[frozenset([item])] = transactions\n",
    "    \n",
    "    # Bước 2: Lọc các mục đơn thường xuyên\n",
    "    frequent_itemsets = {}  # Khởi tạo từ điển cho các tập hợp mục thường xuyên\n",
    "    # Kiểm tra từng tập hợp mục trong itemsets\n",
    "    for itemset, transactions in itemsets.items():\n",
    "        # Nếu tỷ lệ xuất hiện của tập hợp mục >= ngưỡng hỗ trợ min_support, lưu nó\n",
    "        if len(transactions) / num_transactions >= min_support:\n",
    "            frequent_itemsets[itemset] = transactions\n",
    "    \n",
    "    # Bước 3: Tạo các tập hợp mục thường xuyên lớn hơn từ các mục thường xuyên hiện tại\n",
    "    current_itemsets = frequent_itemsets.copy()  # Bắt đầu từ tập hợp mục thường xuyên hiện có\n",
    "    k = 2  # Thiết lập kích thước ban đầu của tập hợp mục là 2\n",
    "    \n",
    "    # Tiếp tục vòng lặp cho đến khi không còn tập hợp mục mới nào được tạo ra\n",
    "    while current_itemsets:\n",
    "        new_itemsets = {}  # Từ điển mới cho các tập hợp mục thường xuyên tiếp theo\n",
    "        keys = list(current_itemsets.keys())  # Lấy tất cả các khóa hiện tại (các tập hợp mục)\n",
    "        # Xét tất cả các cặp khả dĩ\n",
    "        for c in combinations(keys, 2):\n",
    "            combined_itemset = c[0] | c[1]  # Gộp hai tập hợp mục\n",
    "            # Kiểm tra nếu kích thước của tập hợp mục mới bằng k\n",
    "            if len(combined_itemset) == k:\n",
    "                # Giao các giao dịch của hai tập hợp mục để tìm các giao dịch chung\n",
    "                combined_transactions = current_itemsets[c[0]].intersection(current_itemsets[c[1]])\n",
    "                # Kiểm tra ngưỡng hỗ trợ cho tập hợp mục mới\n",
    "                if len(combined_transactions) / num_transactions >= min_support:\n",
    "                    # Lưu vào từ điển new_itemsets nếu đủ điều kiện\n",
    "                    new_itemsets[combined_itemset] = combined_transactions\n",
    "        \n",
    "        # Cập nhật tập hợp mục thường xuyên với tập mới và tiếp tục vòng lặp\n",
    "        frequent_itemsets.update(new_itemsets)\n",
    "        current_itemsets = new_itemsets\n",
    "        k += 1  # Tăng kích thước tập hợp mục cần xét\n",
    "\n",
    "    return frequent_itemsets  # Trả về tất cả các tập hợp mục thường xuyên\n",
    "```"
   ]
  },
  {
   "cell_type": "markdown",
   "metadata": {},
   "source": [
    "### **<center> Tóm tắt thuật toán:</center>**\n",
    "#### **Khởi tạo và Chuẩn bị Dữ liệu**\n",
    "- Khởi tạo từ điển itemsets: Lưu trữ mỗi mục dưới dạng khóa với các giao dịch tương ứng của nó dưới dạng giá trị. Đây là biểu diễn dọc của dữ liệu.\n",
    "- Tính tổng số giao dịch: Lấy chiều dài của df_bin để xác định tổng số giao dịch trong bộ dữ liệu.\n",
    "- Lặp qua các cột của DataFrame df_bin: Mỗi cột đại diện cho một mục. Đối với mỗi mục, tìm các giao dịch nơi mục xuất hiện và lưu vào itemsets dưới dạng frozenset.\n",
    "#### **Xác định các mục đơn thường xuyên**\n",
    "- Khởi tạo frequent_itemsets: Một từ điển mới để lưu trữ các tập hợp mục thường xuyên.\n",
    "- Lọc các tập hợp mục: Kiểm tra từng tập hợp mục trong itemsets để xem liệu chúng có đáp ứng ngưỡng hỗ trợ tối thiểu hay không. Chỉ những tập hợp nào đáp ứng yêu cầu mới được thêm vào frequent_itemsets.\n",
    "#### **Tạo các tập hợp mục lớn hơn**\n",
    "- Khởi tạo và cập nhật kích thước của tập hợp mục: Bắt đầu từ các mục đơn và tăng kích thước của tập hợp mục qua mỗi vòng lặp.\n",
    "- Lặp cho đến khi không còn tập hợp mục mới: Tạo các tập hợp mục mới bằng cách kết hợp các tập hợp mục hiện tại. Sử dụng phép giao của các tập hợp giao dịch để xác định các giao dịch chung cho mục mới.\n",
    "- Kiểm tra ngưỡng hỗ trợ: Chỉ giữ lại những tập hợp mục mới nếu chúng đáp ứng ngưỡng hỗ trợ.\n",
    "- Cập nhật frequent_itemsets: Thêm các tập hợp mục mới thích hợp vào từ điển frequent_itemsets.\n",
    "#### **Kết thúc và Trả về kết quả**\n",
    "- Trả về frequent_itemsets chứa tất cả các tập hợp mục thường xuyên tìm được qua các vòng lặp."
   ]
  },
  {
   "cell_type": "markdown",
   "metadata": {},
   "source": [
    "----------------------------------------------------------------"
   ]
  },
  {
   "cell_type": "markdown",
   "metadata": {},
   "source": [
    "**<center> Hết. </center>**"
   ]
  }
 ],
 "metadata": {
  "kernelspec": {
   "display_name": "Python 3",
   "language": "python",
   "name": "python3"
  },
  "language_info": {
   "codemirror_mode": {
    "name": "ipython",
    "version": 3
   },
   "file_extension": ".py",
   "mimetype": "text/x-python",
   "name": "python",
   "nbconvert_exporter": "python",
   "pygments_lexer": "ipython3",
   "version": "3.11.0"
  }
 },
 "nbformat": 4,
 "nbformat_minor": 2
}
