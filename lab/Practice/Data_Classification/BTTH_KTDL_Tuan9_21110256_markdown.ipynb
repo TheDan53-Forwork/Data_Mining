{
 "cells": [
  {
   "cell_type": "markdown",
   "metadata": {},
   "source": [
    "# <center> Bài tập Thực hành môn Khai phá Dữ liệu </center>"
   ]
  },
  {
   "cell_type": "markdown",
   "metadata": {},
   "source": [
    "### **Họ và tên:** Huỳnh Nguyễn Thế Dân\n",
    "### **MSSV:** 21110256\n",
    "### **Lớp:** 21TTH1"
   ]
  },
  {
   "cell_type": "markdown",
   "metadata": {},
   "source": [
    "##  Áp dụng với tập dữ liệu banknote authentication từ UCI Machine Learning Repository. Kiểm tra banknote là tuyến tính hay không tuyến tính rồi áp dụng tương tự trường hợp tương ứng như trên."
   ]
  },
  {
   "cell_type": "markdown",
   "metadata": {},
   "source": [
    "```python\n",
    "# Import các thư viện cần thiết\n",
    "import pandas as pd  # Thư viện xử lý dữ liệu\n",
    "import numpy as np  # Thư viện tính toán khoa học\n",
    "import matplotlib.pyplot as plt  # Thư viện vẽ biểu đồ\n",
    "from sklearn.model_selection import train_test_split  # Thư viện chia tập dữ liệu\n",
    "from sklearn.svm import SVC  # Thư viện hỗ trợ vector machines\n",
    "from sklearn.metrics import accuracy_score, classification_report  # Thư viện đánh giá mô hình\n",
    "from sklearn.preprocessing import StandardScaler  # Thư viện chuẩn hóa dữ liệu\n",
    "from sklearn.decomposition import PCA  # Thư viện phân tích thành phần chính\n",
    "\n",
    "# Bước 1: Tải dữ liệu\n",
    "url = \"https://archive.ics.uci.edu/ml/machine-learning-databases/00267/data_banknote_authentication.txt\"  \n",
    "# Đọc dữ liệu từ URL và đặt tên cho các cột\n",
    "data = pd.read_csv(url, header=None, names=['Variance', 'Skewness', 'Curtosis', 'Entropy', 'Class'])\n",
    "\n",
    "# Hiển thị một số hàng đầu tiên của dữ liệu để kiểm tra\n",
    "print(data.head())\n"
   ]
  },
  {
   "cell_type": "markdown",
   "metadata": {},
   "source": [
    "#### **<center> Tóm tắt thuật toán:</center>**\n",
    "Đoạn code này thực hiện các bước sau:\n",
    "\n",
    "1. **Import các thư viện cần thiết**: Sử dụng `pandas` để xử lý dữ liệu, `numpy` để tính toán khoa học, `matplotlib` để vẽ biểu đồ, và các thư viện từ `scikit-learn` để tiền xử lý và xây dựng mô hình máy học.\n",
    "\n",
    "2. **Tải dữ liệu**: \n",
    "   - Sử dụng `pandas` để tải dữ liệu từ một URL, tập dữ liệu này liên quan đến việc xác thực tiền giấy. \n",
    "   - Đặt tên cho các cột là `Variance`, `Skewness`, `Curtosis`, `Entropy`, và `Class`.\n",
    "   - Hiển thị một vài hàng đầu tiên của tập dữ liệu để kiểm tra."
   ]
  },
  {
   "cell_type": "markdown",
   "metadata": {},
   "source": [
    "------- "
   ]
  },
  {
   "cell_type": "markdown",
   "metadata": {},
   "source": [
    "```python\n",
    "# Bước 2: Kiểm tra tính tuyến tính\n",
    "# Vẽ biểu đồ phân tán của hai đặc trưng: Variance và Skewness, phân loại theo nhãn Class\n",
    "plt.scatter(data['Variance'], data['Skewness'], c=data['Class'], cmap='coolwarm')\n",
    "plt.xlabel('Variance')  # Gán nhãn trục x\n",
    "plt.ylabel('Skewness')  # Gán nhãn trục y\n",
    "plt.title('Scatter plot of Variance vs Skewness')  # Đặt tiêu đề cho biểu đồ\n",
    "plt.show()  # Hiển thị biểu đồ\n",
    "\n"
   ]
  },
  {
   "cell_type": "markdown",
   "metadata": {},
   "source": [
    "#### **<center> Tóm tắt thuật toán:</center>**\n",
    "\n",
    "- Bước này nhằm kiểm tra tính tuyến tính của dữ liệu bằng cách vẽ biểu đồ phân tán của hai đặc trưng `Variance` và `Skewness`. \n",
    "- Biểu đồ này giúp ta trực quan hóa mối quan hệ giữa hai đặc trưng và phân loại dữ liệu dựa trên nhãn `Class`.\n"
   ]
  },
  {
   "cell_type": "markdown",
   "metadata": {},
   "source": [
    "----    "
   ]
  },
  {
   "cell_type": "markdown",
   "metadata": {},
   "source": [
    "```python\n",
    "# Bước 3: Áp dụng SVM\n",
    "# Tách dữ liệu thành tập huấn luyện và tập kiểm tra\n",
    "X = data[['Variance', 'Skewness', 'Curtosis', 'Entropy']]\n",
    "y = data['Class']\n",
    "\n",
    "# Chuẩn hóa dữ liệu\n",
    "scaler = StandardScaler()\n",
    "X_scaled = scaler.fit_transform(X)\n",
    "\n",
    "# Sử dụng PCA để giảm chiều dữ liệu xuống còn 2 chiều để trực quan hóa\n",
    "pca = PCA(n_components=2)\n",
    "X_pca = pca.fit_transform(X_scaled)\n",
    "\n",
    "# SVM với kernel RBF\n",
    "svm_model = SVC(kernel='rbf', C=1E6, gamma='scale')\n",
    "svm_model.fit(X_pca, y)\n",
    "\n",
    "# Hàm vẽ biên quyết định\n",
    "def plot_svc_decision_function(model, ax=None, plot_support=True):\n",
    "    \"\"\"Vẽ biên quyết định cho SVM 2D\"\"\"\n",
    "    if ax is None:\n",
    "        ax = plt.gca()\n",
    "    xlim = ax.get_xlim()\n",
    "    ylim = ax.get_ylim()\n",
    "    \n",
    "    # Tạo lưới để đánh giá mô hình\n",
    "    x = np.linspace(xlim[0], xlim[1], 30)\n",
    "    y = np.linspace(ylim[0], ylim[1], 30)\n",
    "    Y, X = np.meshgrid(y, x)\n",
    "    xy = np.vstack([X.ravel(), Y.ravel()]).T\n",
    "    P = model.decision_function(xy).reshape(X.shape)\n",
    "    \n",
    "    # Vẽ biên quyết định và margins\n",
    "    ax.contour(X, Y, P, colors='k',\n",
    "               levels=[-1, 0, 1], alpha=0.5,\n",
    "               linestyles=['--', '-', '--'])\n",
    "    \n",
    "    # # Vẽ các điểm hỗ trợ\n",
    "    # if plot_support:\n",
    "    #     ax.scatter(model.support_vectors_[:, 0],\n",
    "    #                model.support_vectors_[:, 1],\n",
    "    #                s=300, linewidth=1, edgecolors='black',\n",
    "    #                facecolors='none')\n",
    "    # ax.set_xlim(xlim)\n",
    "    # ax.set_ylim(ylim)\n",
    "\n",
    "# Vẽ biểu đồ phân tán và biên quyết định\n",
    "plt.scatter(X_pca[:, 0], X_pca[:, 1], c=y, s=50, cmap='autumn')\n",
    "plot_svc_decision_function(svm_model)\n",
    "plt.show()\n",
    "\n",
    "# Hiển thị các vector hỗ trợ của mô hình\n",
    "svm_model.support_vectors_"
   ]
  },
  {
   "cell_type": "markdown",
   "metadata": {},
   "source": [
    "#### **<center> Tóm tắt thuật toán:</center>**\n",
    "Đoạn code này tiếp tục từ bước 3, thực hiện các bước sau:\n",
    "\n",
    "1. **Tách dữ liệu**: Tách dữ liệu thành các đặc trưng (`X`) và nhãn (`y`).\n",
    "2. **Chuẩn hóa dữ liệu**: Sử dụng `StandardScaler` để chuẩn hóa dữ liệu.\n",
    "3. **Giảm chiều dữ liệu**: Sử dụng `PCA` để giảm số chiều dữ liệu xuống còn 2 để trực quan hóa.\n",
    "4. **Áp dụng SVM**: Sử dụng mô hình SVM với kernel RBF để huấn luyện dữ liệu đã giảm chiều.\n",
    "5. **Vẽ biên quyết định**: Vẽ biên quyết định của SVM trên dữ liệu đã giảm chiều."
   ]
  },
  {
   "cell_type": "markdown",
   "metadata": {},
   "source": [
    "-----"
   ]
  },
  {
   "cell_type": "markdown",
   "metadata": {},
   "source": [
    "**<center> Hết. </center>**"
   ]
  }
 ],
 "metadata": {
  "kernelspec": {
   "display_name": "Python 3",
   "language": "python",
   "name": "python3"
  },
  "language_info": {
   "codemirror_mode": {
    "name": "ipython",
    "version": 3
   },
   "file_extension": ".py",
   "mimetype": "text/x-python",
   "name": "python",
   "nbconvert_exporter": "python",
   "pygments_lexer": "ipython3",
   "version": "3.11.0"
  }
 },
 "nbformat": 4,
 "nbformat_minor": 2
}
